{
 "cells": [
  {
   "cell_type": "code",
   "execution_count": 1,
   "id": "initial_id",
   "metadata": {
    "collapsed": true,
    "ExecuteTime": {
     "end_time": "2025-01-15T03:54:42.110857400Z",
     "start_time": "2025-01-15T03:54:36.923802100Z"
    }
   },
   "outputs": [],
   "source": [
    "import pandas as pd\n",
    "from sklearn.preprocessing import StandardScaler"
   ]
  },
  {
   "cell_type": "code",
   "outputs": [
    {
     "name": "stdout",
     "output_type": "stream",
     "text": [
      "<class 'pandas.core.frame.DataFrame'>\n",
      "RangeIndex: 3333 entries, 0 to 3332\n",
      "Data columns (total 21 columns):\n",
      " #   Column          Non-Null Count  Dtype  \n",
      "---  ------          --------------  -----  \n",
      " 0   Account_Length  3333 non-null   int64  \n",
      " 1   Vmail_Message   3333 non-null   int64  \n",
      " 2   Day_Mins        3333 non-null   float64\n",
      " 3   Eve_Mins        3333 non-null   float64\n",
      " 4   Night_Mins      3333 non-null   float64\n",
      " 5   Intl_Mins       3333 non-null   float64\n",
      " 6   CustServ_Calls  3333 non-null   int64  \n",
      " 7   Churn           3333 non-null   object \n",
      " 8   Intl_Plan       3333 non-null   object \n",
      " 9   Vmail_Plan      3333 non-null   object \n",
      " 10  Day_Calls       3333 non-null   int64  \n",
      " 11  Day_Charge      3333 non-null   float64\n",
      " 12  Eve_Calls       3333 non-null   int64  \n",
      " 13  Eve_Charge      3333 non-null   float64\n",
      " 14  Night_Calls     3333 non-null   int64  \n",
      " 15  Night_Charge    3333 non-null   float64\n",
      " 16  Intl_Calls      3333 non-null   int64  \n",
      " 17  Intl_Charge     3333 non-null   float64\n",
      " 18  State           3333 non-null   object \n",
      " 19  Area_Code       3333 non-null   int64  \n",
      " 20  Phone           3333 non-null   object \n",
      "dtypes: float64(8), int64(8), object(5)\n",
      "memory usage: 546.9+ KB\n"
     ]
    }
   ],
   "source": [
    "# import data\n",
    "telco = pd.read_csv('../data/Churn.csv')\n",
    "\n",
    "df = telco.info()\n",
    "df"
   ],
   "metadata": {
    "collapsed": false,
    "ExecuteTime": {
     "end_time": "2025-01-15T03:57:04.355762400Z",
     "start_time": "2025-01-15T03:57:03.391768500Z"
    }
   },
   "id": "c1412e21446f6db1",
   "execution_count": 2
  },
  {
   "cell_type": "code",
   "outputs": [
    {
     "data": {
      "text/plain": "Vmail_Plan\nno     2411\nyes     922\nName: count, dtype: int64"
     },
     "execution_count": 7,
     "metadata": {},
     "output_type": "execute_result"
    }
   ],
   "source": [
    "telco['Vmail_Plan'].value_counts()"
   ],
   "metadata": {
    "collapsed": false,
    "ExecuteTime": {
     "end_time": "2025-01-15T02:08:45.943995600Z",
     "start_time": "2025-01-15T02:08:45.924515500Z"
    }
   },
   "id": "3296086d626ec6ff",
   "execution_count": 7
  },
  {
   "cell_type": "code",
   "outputs": [
    {
     "name": "stdout",
     "output_type": "stream",
     "text": [
      "0    1\n",
      "1    1\n",
      "2    0\n",
      "3    0\n",
      "4    0\n",
      "Name: Vmail_Plan, dtype: int64\n",
      "0    0\n",
      "1    0\n",
      "2    0\n",
      "3    0\n",
      "4    0\n",
      "Name: Churn, dtype: int64\n"
     ]
    }
   ],
   "source": [
    "#Replace 'no' with 0 and 'yes' with 1 in the 'Vmail_Plan' and Çhurn column of telco\n",
    "# Replace 'no' with 0 and 'yes' with 1 in 'Vmail_Plan'\n",
    "replace_dict = {'no':0 , 'yes':1}\n",
    "telco['Vmail_Plan'] = telco['Vmail_Plan'].replace(replace_dict)\n",
    "\n",
    "# Replace 'no' with 0 and 'yes' with 1 in 'Churn'\n",
    "telco['Churn'] = telco['Churn'].replace(replace_dict)\n",
    "\n",
    "# Print the results to verify\n",
    "print(telco['Vmail_Plan'].head())\n",
    "print(telco['Churn'].head())"
   ],
   "metadata": {
    "collapsed": false,
    "ExecuteTime": {
     "end_time": "2025-01-15T02:17:12.682700300Z",
     "start_time": "2025-01-15T02:17:12.564205100Z"
    }
   },
   "id": "295d9dbb747e9d62",
   "execution_count": 10
  },
  {
   "cell_type": "markdown",
   "source": [
    "## Hot Encoding"
   ],
   "metadata": {
    "collapsed": false
   },
   "id": "9458d18fc37e6288"
  },
  {
   "cell_type": "code",
   "outputs": [
    {
     "name": "stdout",
     "output_type": "stream",
     "text": [
      "      AK  AL  AR  AZ  CA  CO  CT  DC  DE  FL  ...  SD  TN  TX  UT  VA  VT  WA  \\\n",
      "0      0   0   0   0   0   0   0   0   0   0  ...   0   0   0   0   0   0   0   \n",
      "1      0   0   0   0   0   0   0   0   0   0  ...   0   0   0   0   0   0   0   \n",
      "2      0   0   0   0   0   0   0   0   0   0  ...   0   0   0   0   0   0   0   \n",
      "3      0   0   0   0   0   0   0   0   0   0  ...   0   0   0   0   0   0   0   \n",
      "4      0   0   0   0   0   0   0   0   0   0  ...   0   0   0   0   0   0   0   \n",
      "...   ..  ..  ..  ..  ..  ..  ..  ..  ..  ..  ...  ..  ..  ..  ..  ..  ..  ..   \n",
      "3328   0   0   0   1   0   0   0   0   0   0  ...   0   0   0   0   0   0   0   \n",
      "3329   0   0   0   0   0   0   0   0   0   0  ...   0   0   0   0   0   0   0   \n",
      "3330   0   0   0   0   0   0   0   0   0   0  ...   0   0   0   0   0   0   0   \n",
      "3331   0   0   0   0   0   0   1   0   0   0  ...   0   0   0   0   0   0   0   \n",
      "3332   0   0   0   0   0   0   0   0   0   0  ...   0   1   0   0   0   0   0   \n",
      "\n",
      "      WI  WV  WY  \n",
      "0      0   0   0  \n",
      "1      0   0   0  \n",
      "2      0   0   0  \n",
      "3      0   0   0  \n",
      "4      0   0   0  \n",
      "...   ..  ..  ..  \n",
      "3328   0   0   0  \n",
      "3329   0   1   0  \n",
      "3330   0   0   0  \n",
      "3331   0   0   0  \n",
      "3332   0   0   0  \n",
      "\n",
      "[3333 rows x 51 columns]\n"
     ]
    }
   ],
   "source": [
    "# Use the pd.get_dummies() function to apply one hot encoding on the 'State' feature of telco.\n",
    "\n",
    "# Perform one hot encoding on 'State'\n",
    "telco_state = pd.get_dummies(telco['State'], dtype=int)\n",
    "\n",
    "# Print the head of telco_state\n",
    "print(telco_state)"
   ],
   "metadata": {
    "collapsed": false,
    "ExecuteTime": {
     "end_time": "2025-01-15T02:22:15.207477900Z",
     "start_time": "2025-01-15T02:22:15.133197600Z"
    }
   },
   "id": "1ead5f64dbe6c305",
   "execution_count": 12
  },
  {
   "cell_type": "markdown",
   "source": [
    "## Feature Scaling"
   ],
   "metadata": {
    "collapsed": false
   },
   "id": "908783f9fe9c473c"
  },
  {
   "cell_type": "code",
   "outputs": [
    {
     "name": "stdout",
     "output_type": "stream",
     "text": [
      "         Intl_Calls    Night_Mins\n",
      "count  3.333000e+03  3.333000e+03\n",
      "mean  -8.527366e-18  7.887813e-17\n",
      "std    1.000150e+00  1.000150e+00\n",
      "min   -1.820289e+00 -3.513648e+00\n",
      "25%   -6.011951e-01 -6.698545e-01\n",
      "50%   -1.948306e-01  6.485803e-03\n",
      "75%    6.178983e-01  6.808485e-01\n",
      "max    6.307001e+00  3.839081e+00\n"
     ]
    }
   ],
   "source": [
    "df = telco[['Intl_Calls' ,'Night_Mins']]\n",
    "\n",
    "# Scale telco using StandardScaler\n",
    "telco_scaled = StandardScaler().fit_transform(df)\n",
    "\n",
    "# Add column names back for readability\n",
    "telco_scaled_df = pd.DataFrame(telco_scaled, columns=[\"Intl_Calls\", \"Night_Mins\"])\n",
    "\n",
    "# Print summary statistics\n",
    "print(telco_scaled_df.describe())\n",
    "\n"
   ],
   "metadata": {
    "collapsed": false,
    "ExecuteTime": {
     "end_time": "2025-01-15T02:56:55.714732100Z",
     "start_time": "2025-01-15T02:56:55.593398600Z"
    }
   },
   "id": "f2d307c3bf5f1a95",
   "execution_count": 18
  },
  {
   "cell_type": "markdown",
   "source": [
    "## Feature Selection and Engineering"
   ],
   "metadata": {
    "collapsed": false
   },
   "id": "b9e31b55ed9f8821"
  },
  {
   "cell_type": "code",
   "outputs": [
    {
     "name": "stdout",
     "output_type": "stream",
     "text": [
      "Index(['Account_Length', 'Vmail_Message', 'Day_Mins', 'Eve_Mins', 'Night_Mins',\n",
      "       'Intl_Mins', 'CustServ_Calls', 'Churn', 'Intl_Plan', 'Vmail_Plan',\n",
      "       'Day_Calls', 'Day_Charge', 'Eve_Calls', 'Eve_Charge', 'Night_Calls',\n",
      "       'Night_Charge', 'Intl_Calls', 'Intl_Charge', 'State'],\n",
      "      dtype='object')\n"
     ]
    }
   ],
   "source": [
    "# Drop the unnecessary features\n",
    "telco = telco.drop(telco[['Area_Code','Phone']], axis=1)\n",
    "\n",
    "# Verify dropped features\n",
    "print(telco.columns)"
   ],
   "metadata": {
    "collapsed": false,
    "ExecuteTime": {
     "end_time": "2025-01-15T03:57:12.423556100Z",
     "start_time": "2025-01-15T03:57:12.357865100Z"
    }
   },
   "id": "4c398b47c99752e9",
   "execution_count": 3
  },
  {
   "cell_type": "code",
   "outputs": [
    {
     "name": "stdout",
     "output_type": "stream",
     "text": [
      "0    2.689011\n",
      "1    2.469903\n",
      "2    1.563462\n",
      "3    2.212360\n",
      "4    1.544628\n",
      "Name: Avg_Night_Calls, dtype: float64\n"
     ]
    }
   ],
   "source": [
    "#Create a new feature - 'Avg_Night_Calls' - that is the result of dividing 'Night_Mins by 'Night_Calls'.\n",
    "telco['Avg_Night_Calls'] = telco['Night_Mins']/telco['Night_Calls']\n",
    "#Print the first five rows of this new feature.\n",
    "print(telco['Avg_Night_Calls'].head())"
   ],
   "metadata": {
    "collapsed": false,
    "ExecuteTime": {
     "end_time": "2025-01-15T03:57:18.379471Z",
     "start_time": "2025-01-15T03:57:18.311257600Z"
    }
   },
   "id": "5f5c770a775d5377",
   "execution_count": 4
  }
 ],
 "metadata": {
  "kernelspec": {
   "display_name": "Python 3",
   "language": "python",
   "name": "python3"
  },
  "language_info": {
   "codemirror_mode": {
    "name": "ipython",
    "version": 2
   },
   "file_extension": ".py",
   "mimetype": "text/x-python",
   "name": "python",
   "nbconvert_exporter": "python",
   "pygments_lexer": "ipython2",
   "version": "2.7.6"
  }
 },
 "nbformat": 4,
 "nbformat_minor": 5
}
