{
 "cells": [
  {
   "cell_type": "code",
   "execution_count": 1,
   "id": "initial_id",
   "metadata": {
    "collapsed": true,
    "ExecuteTime": {
     "end_time": "2025-01-13T01:03:47.382481200Z",
     "start_time": "2025-01-13T01:03:13.703456200Z"
    }
   },
   "outputs": [],
   "source": [
    "import pandas as pd"
   ]
  },
  {
   "cell_type": "markdown",
   "source": [
    "## Reshaping using transpose method"
   ],
   "metadata": {
    "collapsed": false
   },
   "id": "b4c3f215d5e77b8d"
  },
  {
   "cell_type": "code",
   "outputs": [
    {
     "data": {
      "text/plain": "                    name  age  height  weight nationality  \\\n0               L. Messi   32     170      72   Argentina   \n1      Cristiano Ronaldo   34     187      83    Portugal   \n2              Neymar Jr   27     175      68      Brazil   \n3               J. Oblak   26     188      87    Slovenia   \n4              E. Hazard   28     175      74     Belgium   \n...                  ...  ...     ...     ...         ...   \n18273         Shao Shuai   22     186      79    China PR   \n18274       Xiao Mingjie   22     177      66    China PR   \n18275          Zhang Wei   19     186      75    China PR   \n18276       Wang Haijian   18     185      74    China PR   \n18277         Pan Ximing   26     182      78    China PR   \n\n                                club  \n0                       FC Barcelona  \n1                           Juventus  \n2                Paris Saint-Germain  \n3                    Atlético Madrid  \n4                        Real Madrid  \n...                              ...  \n18273               Beijing Renhe FC  \n18274               Shanghai SIPG FC  \n18275         Hebei China Fortune FC  \n18276  Shanghai Greenland Shenhua FC  \n18277         Hebei China Fortune FC  \n\n[18278 rows x 6 columns]",
      "text/html": "<div>\n<style scoped>\n    .dataframe tbody tr th:only-of-type {\n        vertical-align: middle;\n    }\n\n    .dataframe tbody tr th {\n        vertical-align: top;\n    }\n\n    .dataframe thead th {\n        text-align: right;\n    }\n</style>\n<table border=\"1\" class=\"dataframe\">\n  <thead>\n    <tr style=\"text-align: right;\">\n      <th></th>\n      <th>name</th>\n      <th>age</th>\n      <th>height</th>\n      <th>weight</th>\n      <th>nationality</th>\n      <th>club</th>\n    </tr>\n  </thead>\n  <tbody>\n    <tr>\n      <th>0</th>\n      <td>L. Messi</td>\n      <td>32</td>\n      <td>170</td>\n      <td>72</td>\n      <td>Argentina</td>\n      <td>FC Barcelona</td>\n    </tr>\n    <tr>\n      <th>1</th>\n      <td>Cristiano Ronaldo</td>\n      <td>34</td>\n      <td>187</td>\n      <td>83</td>\n      <td>Portugal</td>\n      <td>Juventus</td>\n    </tr>\n    <tr>\n      <th>2</th>\n      <td>Neymar Jr</td>\n      <td>27</td>\n      <td>175</td>\n      <td>68</td>\n      <td>Brazil</td>\n      <td>Paris Saint-Germain</td>\n    </tr>\n    <tr>\n      <th>3</th>\n      <td>J. Oblak</td>\n      <td>26</td>\n      <td>188</td>\n      <td>87</td>\n      <td>Slovenia</td>\n      <td>Atlético Madrid</td>\n    </tr>\n    <tr>\n      <th>4</th>\n      <td>E. Hazard</td>\n      <td>28</td>\n      <td>175</td>\n      <td>74</td>\n      <td>Belgium</td>\n      <td>Real Madrid</td>\n    </tr>\n    <tr>\n      <th>...</th>\n      <td>...</td>\n      <td>...</td>\n      <td>...</td>\n      <td>...</td>\n      <td>...</td>\n      <td>...</td>\n    </tr>\n    <tr>\n      <th>18273</th>\n      <td>Shao Shuai</td>\n      <td>22</td>\n      <td>186</td>\n      <td>79</td>\n      <td>China PR</td>\n      <td>Beijing Renhe FC</td>\n    </tr>\n    <tr>\n      <th>18274</th>\n      <td>Xiao Mingjie</td>\n      <td>22</td>\n      <td>177</td>\n      <td>66</td>\n      <td>China PR</td>\n      <td>Shanghai SIPG FC</td>\n    </tr>\n    <tr>\n      <th>18275</th>\n      <td>Zhang Wei</td>\n      <td>19</td>\n      <td>186</td>\n      <td>75</td>\n      <td>China PR</td>\n      <td>Hebei China Fortune FC</td>\n    </tr>\n    <tr>\n      <th>18276</th>\n      <td>Wang Haijian</td>\n      <td>18</td>\n      <td>185</td>\n      <td>74</td>\n      <td>China PR</td>\n      <td>Shanghai Greenland Shenhua FC</td>\n    </tr>\n    <tr>\n      <th>18277</th>\n      <td>Pan Ximing</td>\n      <td>26</td>\n      <td>182</td>\n      <td>78</td>\n      <td>China PR</td>\n      <td>Hebei China Fortune FC</td>\n    </tr>\n  </tbody>\n</table>\n<p>18278 rows × 6 columns</p>\n</div>"
     },
     "execution_count": 10,
     "metadata": {},
     "output_type": "execute_result"
    }
   ],
   "source": [
    "# import data\n",
    "players = pd.read_csv('../data/players_20.csv')\n",
    "fifa_players = players[['short_name','age', 'height_cm', 'weight_kg', 'nationality', 'club']]\n",
    "\n",
    "# rename columns\n",
    "fifa_players = fifa_players.rename(columns={'short_name':'name', 'height_cm':'height', 'weight_kg':'weight'})\n",
    "fifa_players"
   ],
   "metadata": {
    "collapsed": false,
    "ExecuteTime": {
     "end_time": "2025-01-13T01:25:17.606251400Z",
     "start_time": "2025-01-13T01:25:16.861549600Z"
    }
   },
   "id": "ad814043738e188c",
   "execution_count": 10
  },
  {
   "cell_type": "code",
   "outputs": [
    {
     "name": "stdout",
     "output_type": "stream",
     "text": [
      "(2, 18278)\n"
     ]
    }
   ],
   "source": [
    "# Set name as index\n",
    "fifa_transpose = fifa_players.set_index('name')\n",
    "# Print fifa_transpose\n",
    "#print(fifa_transpose)\n",
    "\n",
    "# Modify the DataFrame to keep only height and weight columns and then transpose\n",
    "fifa_transpose = fifa_players.set_index('name')[['height','weight']].transpose()\n",
    "\n",
    "# Print fifa_transpose\n",
    "print(fifa_transpose.shape)"
   ],
   "metadata": {
    "collapsed": false,
    "ExecuteTime": {
     "end_time": "2025-01-13T01:29:47.750250800Z",
     "start_time": "2025-01-13T01:29:47.674570200Z"
    }
   },
   "id": "2986287ad6adba42",
   "execution_count": 15
  },
  {
   "cell_type": "markdown",
   "source": [
    "## Reshaping using Pivot Method"
   ],
   "metadata": {
    "collapsed": false
   },
   "id": "f65db82248c14645"
  },
  {
   "cell_type": "code",
   "outputs": [
    {
     "name": "stdout",
     "output_type": "stream",
     "text": [
      "movement           dribbling  passing  shooting\n",
      "name                                           \n",
      "Cristiano Ronaldo         89       82        93\n",
      "L. Messi                  96       92        92\n",
      "movement           dribbling  passing  shooting\n",
      "name                                           \n",
      "Cristiano Ronaldo         84       83        89\n",
      "L. Messi                  88       92        70\n",
      "name       Cristiano Ronaldo  L. Messi\n",
      "movement                              \n",
      "dribbling                 89        96\n",
      "passing                   82        92\n",
      "shooting                  93        92\n",
      "                    overall                  attacking                 \n",
      "movement          dribbling passing shooting dribbling passing shooting\n",
      "name                                                                   \n",
      "Cristiano Ronaldo        89      82       93        84      83       89\n",
      "L. Messi                 96      92       92        88      92       70\n"
     ]
    }
   ],
   "source": [
    "fifa_players1 = pd.DataFrame({\n",
    "    'name': ['L. Messi', 'Cristiano Ronaldo', 'L. Messi', 'Cristiano Ronaldo','L. Messi', 'Cristiano Ronaldo'],\n",
    "    'movement':['shooting','shooting','passing','passing','dribbling','dribbling'],\n",
    "    'overall': [92,93,92,82,96,89],\n",
    "    'attacking':[70,89,92,83,88,84]\n",
    "})\n",
    "# Pivot fifa_players to get overall scores indexed by name and identified by movement\n",
    "fifa_overall = fifa_players1.pivot(index='name', columns='movement', values='overall')\n",
    "\n",
    "# Print fifa_overall\n",
    "print(fifa_overall)\n",
    "\n",
    "#Pivot fifa_players to get a DataFrame with attacking scores indexed by name, and identified by movement in the columns.\n",
    "fifa_attacking = fifa_players1.pivot(index='name', columns='movement', values='attacking')\n",
    "\n",
    "# Print fifa_attacking\n",
    "print(fifa_attacking)\n",
    "\n",
    "#Use .pivot() on fifa_players to get overall scores indexed by movement, and identified by name in the columns.\n",
    "fifa_names = fifa_players1.pivot(index='movement', columns='name', values='overall')\n",
    "\n",
    "# Print fifa_names\n",
    "print(fifa_names)\n",
    "\n",
    "#Pivot fifa_players to get overall and attacking scores indexed by name, and identified by movement in the columns.\n",
    "fifa_over_attack = fifa_players1.pivot(index='name', columns='movement', values=['overall','attacking'])\n",
    "\n",
    "# Print fifa_names\n",
    "print(fifa_over_attack)"
   ],
   "metadata": {
    "collapsed": false,
    "ExecuteTime": {
     "end_time": "2025-01-13T03:44:07.385026400Z",
     "start_time": "2025-01-13T03:44:07.301932200Z"
    }
   },
   "id": "23b1b90c700cda8",
   "execution_count": 30
  },
  {
   "cell_type": "markdown",
   "source": [
    "## Pivot Tables"
   ],
   "metadata": {
    "collapsed": false
   },
   "id": "d9323a64b75c46c8"
  },
  {
   "cell_type": "code",
   "outputs": [
    {
     "name": "stdout",
     "output_type": "stream",
     "text": [
      "                    overall                  attacking                 \n",
      "movement          dribbling passing shooting dribbling passing shooting\n",
      "name                                                                   \n",
      "Cristiano Ronaldo        89      82       93        84      83       89\n",
      "L. Messi                 88      92       92        97      92       70\n",
      "                  attacking                    overall                 \n",
      "movement          dribbling passing shooting dribbling passing shooting\n",
      "name                                                                   \n",
      "Cristiano Ronaldo      84.0    83.0     89.0      89.0    82.0     93.0\n",
      "L. Messi               92.5    92.0     70.0      92.0    92.0     92.0\n"
     ]
    }
   ],
   "source": [
    "fifa_players2 = pd.DataFrame({\n",
    "    'name': ['L. Messi', 'Cristiano Ronaldo', 'L. Messi', 'Cristiano Ronaldo','L. Messi', 'Cristiano Ronaldo','L. Messi'],\n",
    "    'movement':['shooting','shooting','passing','passing','dribbling','dribbling','dribbling'],\n",
    "    'overall': [92,93,92,82,96,89,88],\n",
    "    'attacking':[70,89,92,83,88,84,97]\n",
    "})\n",
    "# Discard the fifth row to delete all repeated rows\n",
    "fifa_drop = fifa_players2.drop(4, axis=0)\n",
    "\n",
    "# Use pivot method to get all scores by name and movement\n",
    "fifa_pivot = fifa_drop.pivot(index='name', columns='movement', values=['overall','attacking']) \n",
    "\n",
    "# Print fifa_pivot\n",
    "print(fifa_pivot)  \n",
    "# Use pivot table to get all scores by name and movement\n",
    "fifa_pivot_table = fifa_players2.pivot_table(index='name', \n",
    "                                     columns='movement', \n",
    "                                     aggfunc='mean')\n",
    "# Print fifa_pivot_table\n",
    "print(fifa_pivot_table)"
   ],
   "metadata": {
    "collapsed": false,
    "ExecuteTime": {
     "end_time": "2025-01-13T04:10:29.417033100Z",
     "start_time": "2025-01-13T04:10:28.887270Z"
    }
   },
   "id": "2b0ac82cecad0642",
   "execution_count": 38
  },
  {
   "cell_type": "code",
   "outputs": [
    {
     "name": "stdout",
     "output_type": "stream",
     "text": [
      "club         FC Barcelona  Real Madrid  Liverpool\n",
      "nationality                                      \n",
      "Brazil          25.666667    23.500000       26.0\n",
      "Croatia         31.000000    33.000000       29.0\n",
      "Germany         27.000000    29.000000       18.0\n",
      "Spain           22.600000    23.923077       27.0\n",
      "club                SSV Jahn Regensburg  1. FC Heidenheim 1846  \\\n",
      "nationality                                                      \n",
      "Afghanistan                         NaN                    NaN   \n",
      "Albania                             NaN                    NaN   \n",
      "Algeria                             NaN                    NaN   \n",
      "Angola                              NaN                    NaN   \n",
      "Antigua & Barbuda                   NaN                    NaN   \n",
      "...                                 ...                    ...   \n",
      "Venezuela                           NaN                    NaN   \n",
      "Vietnam                             NaN                    NaN   \n",
      "Wales                               NaN                    NaN   \n",
      "Zambia                              NaN                    NaN   \n",
      "Zimbabwe                            NaN                    NaN   \n",
      "\n",
      "club               1. FC Kaiserslautern  1. FC Köln  1. FC Magdeburg  \\\n",
      "nationality                                                            \n",
      "Afghanistan                         NaN         NaN              NaN   \n",
      "Albania                             NaN         NaN            189.0   \n",
      "Algeria                             NaN         NaN              NaN   \n",
      "Angola                            186.0         NaN              NaN   \n",
      "Antigua & Barbuda                   NaN         NaN              NaN   \n",
      "...                                 ...         ...              ...   \n",
      "Venezuela                           NaN         NaN              NaN   \n",
      "Vietnam                             NaN         NaN              NaN   \n",
      "Wales                               NaN         NaN              NaN   \n",
      "Zambia                              NaN         NaN              NaN   \n",
      "Zimbabwe                            NaN         NaN              NaN   \n",
      "\n",
      "club               1. FC Nürnberg  1. FC Union Berlin  1. FSV Mainz 05  \\\n",
      "nationality                                                              \n",
      "Afghanistan                   NaN                 NaN              NaN   \n",
      "Albania                       NaN                 NaN              NaN   \n",
      "Algeria                       NaN                 NaN              NaN   \n",
      "Angola                        NaN                 NaN              NaN   \n",
      "Antigua & Barbuda             NaN                 NaN              NaN   \n",
      "...                           ...                 ...              ...   \n",
      "Venezuela                     NaN                 NaN              NaN   \n",
      "Vietnam                       NaN                 NaN              NaN   \n",
      "Wales                         NaN                 NaN              NaN   \n",
      "Zambia                        NaN                 NaN              NaN   \n",
      "Zimbabwe                      NaN                 NaN              NaN   \n",
      "\n",
      "club               AC Ajaccio  AC Horsens  ...  Wolverhampton Wanderers  \\\n",
      "nationality                                ...                            \n",
      "Afghanistan               NaN         NaN  ...                      NaN   \n",
      "Albania                 180.0         NaN  ...                      NaN   \n",
      "Algeria                   NaN         NaN  ...                      NaN   \n",
      "Angola                    NaN         NaN  ...                      NaN   \n",
      "Antigua & Barbuda         NaN         NaN  ...                      NaN   \n",
      "...                       ...         ...  ...                      ...   \n",
      "Venezuela                 NaN         NaN  ...                      NaN   \n",
      "Vietnam                   NaN         NaN  ...                      NaN   \n",
      "Wales                     NaN         NaN  ...                      NaN   \n",
      "Zambia                    NaN         NaN  ...                      NaN   \n",
      "Zimbabwe                  NaN         NaN  ...                      NaN   \n",
      "\n",
      "club               Wuhan Zall  Wycombe Wanderers  Yeni Malatyaspor  \\\n",
      "nationality                                                          \n",
      "Afghanistan               NaN                NaN               NaN   \n",
      "Albania                   NaN                NaN               NaN   \n",
      "Algeria                   NaN                NaN               NaN   \n",
      "Angola                    NaN                NaN               NaN   \n",
      "Antigua & Barbuda         NaN              180.0               NaN   \n",
      "...                       ...                ...               ...   \n",
      "Venezuela                 NaN                NaN               NaN   \n",
      "Vietnam                   NaN                NaN               NaN   \n",
      "Wales                     NaN              183.0               NaN   \n",
      "Zambia                    NaN                NaN               NaN   \n",
      "Zimbabwe                  NaN                NaN             180.0   \n",
      "\n",
      "club               Yokohama F. Marinos  Zagłębie Lubin  Çaykur Rizespor  \\\n",
      "nationality                                                               \n",
      "Afghanistan                        NaN             NaN              NaN   \n",
      "Albania                            NaN             NaN              NaN   \n",
      "Algeria                            NaN             NaN              NaN   \n",
      "Angola                             NaN             NaN              NaN   \n",
      "Antigua & Barbuda                  NaN             NaN              NaN   \n",
      "...                                ...             ...              ...   \n",
      "Venezuela                          NaN             NaN              NaN   \n",
      "Vietnam                            NaN             NaN              NaN   \n",
      "Wales                              NaN             NaN              NaN   \n",
      "Zambia                             NaN             NaN              NaN   \n",
      "Zimbabwe                           NaN             NaN              NaN   \n",
      "\n",
      "club               Örebro SK  Östersunds FK  Śląsk Wrocław  \n",
      "nationality                                                 \n",
      "Afghanistan              NaN            NaN            NaN  \n",
      "Albania                184.0            NaN            NaN  \n",
      "Algeria                  NaN            NaN            NaN  \n",
      "Angola                   NaN            NaN            NaN  \n",
      "Antigua & Barbuda        NaN            NaN            NaN  \n",
      "...                      ...            ...            ...  \n",
      "Venezuela                NaN            NaN            NaN  \n",
      "Vietnam                  NaN            NaN            NaN  \n",
      "Wales                    NaN            NaN            NaN  \n",
      "Zambia                   NaN            NaN            NaN  \n",
      "Zimbabwe                 NaN            NaN            NaN  \n",
      "\n",
      "[162 rows x 698 columns]\n",
      "club                SSV Jahn Regensburg  1. FC Heidenheim 1846  \\\n",
      "nationality                                                      \n",
      "Afghanistan                         NaN                    NaN   \n",
      "Albania                             NaN                    NaN   \n",
      "Algeria                             NaN                    NaN   \n",
      "Angola                              NaN                    NaN   \n",
      "Antigua & Barbuda                   NaN                    NaN   \n",
      "...                                 ...                    ...   \n",
      "Vietnam                             NaN                    NaN   \n",
      "Wales                               NaN                    NaN   \n",
      "Zambia                              NaN                    NaN   \n",
      "Zimbabwe                            NaN                    NaN   \n",
      "All                                25.0                   29.0   \n",
      "\n",
      "club               1. FC Kaiserslautern  1. FC Köln  1. FC Magdeburg  \\\n",
      "nationality                                                            \n",
      "Afghanistan                         NaN         NaN              NaN   \n",
      "Albania                             NaN         NaN              1.0   \n",
      "Algeria                             NaN         NaN              NaN   \n",
      "Angola                              1.0         NaN              NaN   \n",
      "Antigua & Barbuda                   NaN         NaN              NaN   \n",
      "...                                 ...         ...              ...   \n",
      "Vietnam                             NaN         NaN              NaN   \n",
      "Wales                               NaN         NaN              NaN   \n",
      "Zambia                              NaN         NaN              NaN   \n",
      "Zimbabwe                            NaN         NaN              NaN   \n",
      "All                                28.0        31.0             24.0   \n",
      "\n",
      "club               1. FC Nürnberg  1. FC Union Berlin  1. FSV Mainz 05  \\\n",
      "nationality                                                              \n",
      "Afghanistan                   NaN                 NaN              NaN   \n",
      "Albania                       NaN                 NaN              NaN   \n",
      "Algeria                       NaN                 NaN              NaN   \n",
      "Angola                        NaN                 NaN              NaN   \n",
      "Antigua & Barbuda             NaN                 NaN              NaN   \n",
      "...                           ...                 ...              ...   \n",
      "Vietnam                       NaN                 NaN              NaN   \n",
      "Wales                         NaN                 NaN              NaN   \n",
      "Zambia                        NaN                 NaN              NaN   \n",
      "Zimbabwe                      NaN                 NaN              NaN   \n",
      "All                          30.0                33.0             33.0   \n",
      "\n",
      "club               AC Ajaccio  AC Horsens  ...  Wuhan Zall  Wycombe Wanderers  \\\n",
      "nationality                                ...                                  \n",
      "Afghanistan               NaN         NaN  ...         NaN                NaN   \n",
      "Albania                   1.0         NaN  ...         NaN                NaN   \n",
      "Algeria                   NaN         NaN  ...         NaN                NaN   \n",
      "Angola                    NaN         NaN  ...         NaN                NaN   \n",
      "Antigua & Barbuda         NaN         NaN  ...         NaN                1.0   \n",
      "...                       ...         ...  ...         ...                ...   \n",
      "Vietnam                   NaN         NaN  ...         NaN                NaN   \n",
      "Wales                     NaN         NaN  ...         NaN                2.0   \n",
      "Zambia                    NaN         NaN  ...         NaN                NaN   \n",
      "Zimbabwe                  NaN         NaN  ...         NaN                NaN   \n",
      "All                      24.0        21.0  ...        28.0               24.0   \n",
      "\n",
      "club               Yeni Malatyaspor  Yokohama F. Marinos  Zagłębie Lubin  \\\n",
      "nationality                                                                \n",
      "Afghanistan                     NaN                  NaN             NaN   \n",
      "Albania                         NaN                  NaN             NaN   \n",
      "Algeria                         NaN                  NaN             NaN   \n",
      "Angola                          NaN                  NaN             NaN   \n",
      "Antigua & Barbuda               NaN                  NaN             NaN   \n",
      "...                             ...                  ...             ...   \n",
      "Vietnam                         NaN                  NaN             NaN   \n",
      "Wales                           NaN                  NaN             NaN   \n",
      "Zambia                          NaN                  NaN             NaN   \n",
      "Zimbabwe                        1.0                  NaN             NaN   \n",
      "All                            28.0                 27.0            25.0   \n",
      "\n",
      "club               Çaykur Rizespor  Örebro SK  Östersunds FK  Śląsk Wrocław  \\\n",
      "nationality                                                                   \n",
      "Afghanistan                    NaN        NaN            NaN            NaN   \n",
      "Albania                        NaN        1.0            NaN            NaN   \n",
      "Algeria                        NaN        NaN            NaN            NaN   \n",
      "Angola                         NaN        NaN            NaN            NaN   \n",
      "Antigua & Barbuda              NaN        NaN            NaN            NaN   \n",
      "...                            ...        ...            ...            ...   \n",
      "Vietnam                        NaN        NaN            NaN            NaN   \n",
      "Wales                          NaN        NaN            NaN            NaN   \n",
      "Zambia                         NaN        NaN            NaN            NaN   \n",
      "Zimbabwe                       NaN        NaN            NaN            NaN   \n",
      "All                           23.0       27.0           27.0            1.0   \n",
      "\n",
      "club                 All  \n",
      "nationality               \n",
      "Afghanistan            2  \n",
      "Albania               43  \n",
      "Algeria               50  \n",
      "Angola                16  \n",
      "Antigua & Barbuda      7  \n",
      "...                  ...  \n",
      "Vietnam                1  \n",
      "Wales                117  \n",
      "Zambia                10  \n",
      "Zimbabwe              12  \n",
      "All                18278  \n",
      "\n",
      "[163 rows x 699 columns]\n"
     ]
    }
   ],
   "source": [
    "#list(players.columns)\n",
    "fifa_players3 = players[['short_name','age','height_cm','weight_kg','nationality','club']]\n",
    "fifa_players3 = fifa_players3.rename(columns={'short_name':'name','height_cm':'height','weight_kg':'weight'})\n",
    "\n",
    "# Use pivot table to display mean age of players by club and nationality \n",
    "mean_age_fifa = fifa_players3.pivot_table(index='nationality', \n",
    "                                  columns='club', \n",
    "                                  values='age', \n",
    "                                  aggfunc='mean')\n",
    "\n",
    "# Print mean_age_fifa\n",
    "x= mean_age_fifa[['FC Barcelona','Real Madrid','Liverpool']].dropna(axis=0)\n",
    "#x = x.dropna(axis=0)\n",
    "print(x)\n",
    "\n",
    "# Use pivot table to display max height of any player by club and nationality\n",
    "tall_players_fifa = players.pivot_table(index='nationality',  \n",
    "                                     columns='club',  \n",
    "                                      values='height_cm', \n",
    "                                      aggfunc='max')\n",
    "\n",
    "# Print tall_players_fifa\n",
    "print(tall_players_fifa)\n",
    "\n",
    "\n",
    "# Use pivot table to show the count of players by club and nationality and the total count\n",
    "players_country = players.pivot_table(index='nationality',  \n",
    "                                     columns='club',  \n",
    "                                      values='short_name', \n",
    "                                      aggfunc='count', margins=True)\n",
    "\n",
    "# Print players_country\n",
    "print(players_country)"
   ],
   "metadata": {
    "collapsed": false,
    "ExecuteTime": {
     "end_time": "2025-01-13T04:30:05.440603700Z",
     "start_time": "2025-01-13T04:30:04.006535300Z"
    }
   },
   "id": "44573a583b18ab28",
   "execution_count": 52
  }
 ],
 "metadata": {
  "kernelspec": {
   "display_name": "Python 3",
   "language": "python",
   "name": "python3"
  },
  "language_info": {
   "codemirror_mode": {
    "name": "ipython",
    "version": 2
   },
   "file_extension": ".py",
   "mimetype": "text/x-python",
   "name": "python",
   "nbconvert_exporter": "python",
   "pygments_lexer": "ipython2",
   "version": "2.7.6"
  }
 },
 "nbformat": 4,
 "nbformat_minor": 5
}
