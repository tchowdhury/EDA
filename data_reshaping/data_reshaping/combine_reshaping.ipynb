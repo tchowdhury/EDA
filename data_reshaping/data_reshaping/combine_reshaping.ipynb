{
 "cells": [
  {
   "cell_type": "code",
   "execution_count": 1,
   "id": "initial_id",
   "metadata": {
    "collapsed": true,
    "ExecuteTime": {
     "end_time": "2025-01-14T05:43:57.878215600Z",
     "start_time": "2025-01-14T05:43:43.871314200Z"
    }
   },
   "outputs": [],
   "source": [
    "import pandas as pd"
   ]
  },
  {
   "cell_type": "code",
   "outputs": [
    {
     "data": {
      "text/plain": "     country  perc_obesity        bounds\n0  Argentina          21.5  [15.4, 31.5]\n1    Germany          22.3  [16.2, 32.4]\n2      Japan           2.5    [1.1, 3.5]\n3     Norway          23.0  [13.1, 33.0]",
      "text/html": "<div>\n<style scoped>\n    .dataframe tbody tr th:only-of-type {\n        vertical-align: middle;\n    }\n\n    .dataframe tbody tr th {\n        vertical-align: top;\n    }\n\n    .dataframe thead th {\n        text-align: right;\n    }\n</style>\n<table border=\"1\" class=\"dataframe\">\n  <thead>\n    <tr style=\"text-align: right;\">\n      <th></th>\n      <th>country</th>\n      <th>perc_obesity</th>\n      <th>bounds</th>\n    </tr>\n  </thead>\n  <tbody>\n    <tr>\n      <th>0</th>\n      <td>Argentina</td>\n      <td>21.5</td>\n      <td>[15.4, 31.5]</td>\n    </tr>\n    <tr>\n      <th>1</th>\n      <td>Germany</td>\n      <td>22.3</td>\n      <td>[16.2, 32.4]</td>\n    </tr>\n    <tr>\n      <th>2</th>\n      <td>Japan</td>\n      <td>2.5</td>\n      <td>[1.1, 3.5]</td>\n    </tr>\n    <tr>\n      <th>3</th>\n      <td>Norway</td>\n      <td>23.0</td>\n      <td>[13.1, 33.0]</td>\n    </tr>\n  </tbody>\n</table>\n</div>"
     },
     "execution_count": 2,
     "metadata": {},
     "output_type": "execute_result"
    }
   ],
   "source": [
    "# Import data\n",
    "obesity = pd.read_csv('../data/obesity_list.csv')\n",
    "obesity"
   ],
   "metadata": {
    "collapsed": false,
    "ExecuteTime": {
     "end_time": "2025-01-14T06:09:25.990608200Z",
     "start_time": "2025-01-14T06:09:25.516192700Z"
    }
   },
   "id": "5190f8eca63c13e1",
   "execution_count": 2
  },
  {
   "cell_type": "code",
   "outputs": [
    {
     "data": {
      "text/plain": "                               perc_obesity\ncountry   biological_sex year              \nArgentina Male           2005          21.5\n          Female         2005          24.2\n          Male           2015          26.8\n          Female         2015          28.5\nJapan     Male           2005           2.5\n          Female         2005           2.6\n          Male           2015           4.6\n          Female         2015           3.6\nNorway    Male           2005          17.6\n          Female         2005          18.6\n          Male           2015          23.0\n          Female         2015          22.2",
      "text/html": "<div>\n<style scoped>\n    .dataframe tbody tr th:only-of-type {\n        vertical-align: middle;\n    }\n\n    .dataframe tbody tr th {\n        vertical-align: top;\n    }\n\n    .dataframe thead th {\n        text-align: right;\n    }\n</style>\n<table border=\"1\" class=\"dataframe\">\n  <thead>\n    <tr style=\"text-align: right;\">\n      <th></th>\n      <th></th>\n      <th></th>\n      <th>perc_obesity</th>\n    </tr>\n    <tr>\n      <th>country</th>\n      <th>biological_sex</th>\n      <th>year</th>\n      <th></th>\n    </tr>\n  </thead>\n  <tbody>\n    <tr>\n      <th rowspan=\"4\" valign=\"top\">Argentina</th>\n      <th>Male</th>\n      <th>2005</th>\n      <td>21.5</td>\n    </tr>\n    <tr>\n      <th>Female</th>\n      <th>2005</th>\n      <td>24.2</td>\n    </tr>\n    <tr>\n      <th>Male</th>\n      <th>2015</th>\n      <td>26.8</td>\n    </tr>\n    <tr>\n      <th>Female</th>\n      <th>2015</th>\n      <td>28.5</td>\n    </tr>\n    <tr>\n      <th rowspan=\"4\" valign=\"top\">Japan</th>\n      <th>Male</th>\n      <th>2005</th>\n      <td>2.5</td>\n    </tr>\n    <tr>\n      <th>Female</th>\n      <th>2005</th>\n      <td>2.6</td>\n    </tr>\n    <tr>\n      <th>Male</th>\n      <th>2015</th>\n      <td>4.6</td>\n    </tr>\n    <tr>\n      <th>Female</th>\n      <th>2015</th>\n      <td>3.6</td>\n    </tr>\n    <tr>\n      <th rowspan=\"4\" valign=\"top\">Norway</th>\n      <th>Male</th>\n      <th>2005</th>\n      <td>17.6</td>\n    </tr>\n    <tr>\n      <th>Female</th>\n      <th>2005</th>\n      <td>18.6</td>\n    </tr>\n    <tr>\n      <th>Male</th>\n      <th>2015</th>\n      <td>23.0</td>\n    </tr>\n    <tr>\n      <th>Female</th>\n      <th>2015</th>\n      <td>22.2</td>\n    </tr>\n  </tbody>\n</table>\n</div>"
     },
     "execution_count": 14,
     "metadata": {},
     "output_type": "execute_result"
    }
   ],
   "source": [
    "index = pd.MultiIndex.from_arrays([['Argentina','Argentina','Argentina','Argentina','Japan','Japan','Japan','Japan','Norway','Norway','Norway','Norway'],['Male','Female','Male','Female','Male','Female','Male','Female','Male','Female','Male','Female'],[2005,2005,2015,2015,2005,2005,2015,2015,2005,2005,2015,2015]],names=['country','biological_sex','year'])\n",
    "columns = ['perc_obesity']\n",
    "data = [21.5,24.2,26.8,28.5,2.5,2.6,4.6,3.6,17.6,18.6,23.0,22.2]\n",
    "\n",
    "obesity = pd.DataFrame(data, index=index, columns=columns)\n",
    "obesity"
   ],
   "metadata": {
    "collapsed": false,
    "ExecuteTime": {
     "end_time": "2025-01-14T06:26:39.642378600Z",
     "start_time": "2025-01-14T06:26:39.590327900Z"
    }
   },
   "id": "719eed240251dde5",
   "execution_count": 14
  },
  {
   "cell_type": "code",
   "outputs": [
    {
     "name": "stdout",
     "output_type": "stream",
     "text": [
      "biological_sex  year\n",
      "Female          2005    15.133333\n",
      "                2015    18.100000\n",
      "Male            2005    13.866667\n",
      "                2015    18.133333\n",
      "dtype: float64\n"
     ]
    }
   ],
   "source": [
    "# Unstack the first level and calculate the mean of the columns\n",
    "obesity_general = obesity.unstack(level=0).mean(axis=1)\n",
    "\n",
    "# Print obesity_general\n",
    "print(obesity_general)"
   ],
   "metadata": {
    "collapsed": false,
    "ExecuteTime": {
     "end_time": "2025-01-14T06:21:57.808913300Z",
     "start_time": "2025-01-14T06:21:57.664522200Z"
    }
   },
   "id": "cafd92a1989bdcd",
   "execution_count": 4
  },
  {
   "cell_type": "code",
   "outputs": [
    {
     "name": "stdout",
     "output_type": "stream",
     "text": [
      "country    year\n",
      "Argentina  2005    22.85\n",
      "           2015    27.65\n",
      "Japan      2005     2.55\n",
      "           2015     4.10\n",
      "Norway     2005    18.10\n",
      "           2015    22.60\n",
      "dtype: float64\n"
     ]
    }
   ],
   "source": [
    "# Unstack the second level and calculate the mean of the columns\n",
    "obesity_mean = obesity.unstack(level=1).mean(axis=1)\n",
    "\n",
    "# Print obesity_mean\n",
    "print(obesity_mean)"
   ],
   "metadata": {
    "collapsed": false,
    "ExecuteTime": {
     "end_time": "2025-01-14T06:23:43.180271500Z",
     "start_time": "2025-01-14T06:23:43.154453500Z"
    }
   },
   "id": "172b4cb121b2075a",
   "execution_count": 8
  },
  {
   "cell_type": "code",
   "outputs": [
    {
     "name": "stdout",
     "output_type": "stream",
     "text": [
      "                         perc_obesity     \n",
      "year                             2005 2015\n",
      "country   biological_sex                  \n",
      "Argentina Female                  NaN  4.3\n",
      "          Male                    NaN  5.3\n",
      "Japan     Female                  NaN  1.0\n",
      "          Male                    NaN  2.1\n",
      "Norway    Female                  NaN  3.6\n",
      "          Male                    NaN  5.4\n"
     ]
    }
   ],
   "source": [
    "# Unstack the third level and calculate the difference between columns\n",
    "obesity_variation = obesity.unstack(level=2).diff(axis=1)\n",
    "\n",
    "# Print obesity_variation\n",
    "print(obesity_variation)"
   ],
   "metadata": {
    "collapsed": false,
    "ExecuteTime": {
     "end_time": "2025-01-14T06:26:43.472899600Z",
     "start_time": "2025-01-14T06:26:43.450397400Z"
    }
   },
   "id": "76fc3819a429773d",
   "execution_count": 15
  },
  {
   "cell_type": "code",
   "outputs": [
    {
     "data": {
      "text/plain": "year                           1995                   2005            \\\n                       perc_obesity variation perc_obesity variation   \ncountry biological_sex                                                 \nFrance  Female                 15.3       7.7         18.1       8.2   \n        Male                   12.8       7.6         16.9       8.4   \nGermany Female                 14.4       4.6         17.2       5.2   \n        Male                   14.4       5.1         18.7       5.9   \n\nyear                           2015            \n                       perc_obesity variation  \ncountry biological_sex                         \nFrance  Female                 20.8      11.3  \n        Male                   21.5      11.8  \nGermany Female                 20.1       8.4  \n        Male                   23.6       9.8  ",
      "text/html": "<div>\n<style scoped>\n    .dataframe tbody tr th:only-of-type {\n        vertical-align: middle;\n    }\n\n    .dataframe tbody tr th {\n        vertical-align: top;\n    }\n\n    .dataframe thead tr th {\n        text-align: left;\n    }\n\n    .dataframe thead tr:last-of-type th {\n        text-align: right;\n    }\n</style>\n<table border=\"1\" class=\"dataframe\">\n  <thead>\n    <tr>\n      <th></th>\n      <th>year</th>\n      <th colspan=\"2\" halign=\"left\">1995</th>\n      <th colspan=\"2\" halign=\"left\">2005</th>\n      <th colspan=\"2\" halign=\"left\">2015</th>\n    </tr>\n    <tr>\n      <th></th>\n      <th></th>\n      <th>perc_obesity</th>\n      <th>variation</th>\n      <th>perc_obesity</th>\n      <th>variation</th>\n      <th>perc_obesity</th>\n      <th>variation</th>\n    </tr>\n    <tr>\n      <th>country</th>\n      <th>biological_sex</th>\n      <th></th>\n      <th></th>\n      <th></th>\n      <th></th>\n      <th></th>\n      <th></th>\n    </tr>\n  </thead>\n  <tbody>\n    <tr>\n      <th rowspan=\"2\" valign=\"top\">France</th>\n      <th>Female</th>\n      <td>15.3</td>\n      <td>7.7</td>\n      <td>18.1</td>\n      <td>8.2</td>\n      <td>20.8</td>\n      <td>11.3</td>\n    </tr>\n    <tr>\n      <th>Male</th>\n      <td>12.8</td>\n      <td>7.6</td>\n      <td>16.9</td>\n      <td>8.4</td>\n      <td>21.5</td>\n      <td>11.8</td>\n    </tr>\n    <tr>\n      <th rowspan=\"2\" valign=\"top\">Germany</th>\n      <th>Female</th>\n      <td>14.4</td>\n      <td>4.6</td>\n      <td>17.2</td>\n      <td>5.2</td>\n      <td>20.1</td>\n      <td>8.4</td>\n    </tr>\n    <tr>\n      <th>Male</th>\n      <td>14.4</td>\n      <td>5.1</td>\n      <td>18.7</td>\n      <td>5.9</td>\n      <td>23.6</td>\n      <td>9.8</td>\n    </tr>\n  </tbody>\n</table>\n</div>"
     },
     "execution_count": 22,
     "metadata": {},
     "output_type": "execute_result"
    }
   ],
   "source": [
    "index = pd.MultiIndex.from_arrays([['France','France','Germany','Germany'],['Female','Male','Female','Male']],names=['country','biological_sex'])\n",
    "columns = pd.MultiIndex.from_arrays([[1995,1995,2005,2005,2015,2015],['perc_obesity','variation','perc_obesity','variation','perc_obesity','variation']], names=['year',''])\n",
    "data = [[15.3,7.7,18.1,8.2,20.8,11.3],[12.8,7.6,16.9, 8.4,21.5,11.8],[14.4,4.6,17.2, 5.2,20.1,8.4],[14.4,5.1,18.7,5.9,23.6,9.8]]\n",
    "\n",
    "obesity = pd.DataFrame(data, index=index, columns=columns)\n",
    "obesity"
   ],
   "metadata": {
    "collapsed": false,
    "ExecuteTime": {
     "end_time": "2025-01-14T06:36:45.622941400Z",
     "start_time": "2025-01-14T06:36:45.400090700Z"
    }
   },
   "id": "1b7b4d2e46f2c39f",
   "execution_count": 22
  },
  {
   "cell_type": "code",
   "outputs": [
    {
     "name": "stdout",
     "output_type": "stream",
     "text": [
      "                        perc_obesity  variation\n",
      "country biological_sex                         \n",
      "France  Female                  18.1        8.2\n",
      "        Male                    16.9        8.4\n",
      "Germany Female                  17.2        5.2\n",
      "        Male                    18.7        5.9\n"
     ]
    }
   ],
   "source": [
    "# Stack obesity, get median of columns and unstack again\n",
    "median_obesity = obesity.stack(future_stack=True).median(axis=1).unstack()\n",
    "\n",
    "# Print median_obesity\n",
    "print(median_obesity)"
   ],
   "metadata": {
    "collapsed": false,
    "ExecuteTime": {
     "end_time": "2025-01-14T06:36:00.253594100Z",
     "start_time": "2025-01-14T06:35:59.948837300Z"
    }
   },
   "id": "3bf657428099799f",
   "execution_count": 21
  },
  {
   "cell_type": "code",
   "outputs": [
    {
     "name": "stdout",
     "output_type": "stream",
     "text": [
      "biological_sex  Female  Male\n",
      "country year                \n",
      "France  1995      23.0  20.4\n",
      "        2005      26.3  25.3\n",
      "        2015      32.1  33.3\n",
      "Germany 1995      19.0  19.5\n",
      "        2005      22.4  24.6\n",
      "        2015      28.5  33.4\n"
     ]
    }
   ],
   "source": [
    "# Stack the first level, get sum, and unstack the second level\n",
    "obesity_sum = obesity.stack(level=0, future_stack=True).sum(axis=1).unstack(level=1)\n",
    "\n",
    "# Print obesity_max\n",
    "print(obesity_sum)"
   ],
   "metadata": {
    "collapsed": false,
    "ExecuteTime": {
     "end_time": "2025-01-14T06:37:38.083367900Z",
     "start_time": "2025-01-14T06:37:38.025560900Z"
    }
   },
   "id": "8a7c1f5c87d70451",
   "execution_count": 23
  },
  {
   "cell_type": "code",
   "outputs": [
    {
     "data": {
      "text/plain": "                    perc_obesity              \ncountry                Argentina Brazil France\nyear biological_sex                           \n1995 Female                 20.2   15.3   15.3\n     Male                   16.8    8.9   12.8\n2005 Female                 24.2   20.1   18.1\n     Male                   21.5   13.2   16.9\n2015 Female                 28.5   24.9   20.8\n     Male                   26.8   18.0   21.5",
      "text/html": "<div>\n<style scoped>\n    .dataframe tbody tr th:only-of-type {\n        vertical-align: middle;\n    }\n\n    .dataframe tbody tr th {\n        vertical-align: top;\n    }\n\n    .dataframe thead tr th {\n        text-align: left;\n    }\n\n    .dataframe thead tr:last-of-type th {\n        text-align: right;\n    }\n</style>\n<table border=\"1\" class=\"dataframe\">\n  <thead>\n    <tr>\n      <th></th>\n      <th></th>\n      <th colspan=\"3\" halign=\"left\">perc_obesity</th>\n    </tr>\n    <tr>\n      <th></th>\n      <th>country</th>\n      <th>Argentina</th>\n      <th>Brazil</th>\n      <th>France</th>\n    </tr>\n    <tr>\n      <th>year</th>\n      <th>biological_sex</th>\n      <th></th>\n      <th></th>\n      <th></th>\n    </tr>\n  </thead>\n  <tbody>\n    <tr>\n      <th rowspan=\"2\" valign=\"top\">1995</th>\n      <th>Female</th>\n      <td>20.2</td>\n      <td>15.3</td>\n      <td>15.3</td>\n    </tr>\n    <tr>\n      <th>Male</th>\n      <td>16.8</td>\n      <td>8.9</td>\n      <td>12.8</td>\n    </tr>\n    <tr>\n      <th rowspan=\"2\" valign=\"top\">2005</th>\n      <th>Female</th>\n      <td>24.2</td>\n      <td>20.1</td>\n      <td>18.1</td>\n    </tr>\n    <tr>\n      <th>Male</th>\n      <td>21.5</td>\n      <td>13.2</td>\n      <td>16.9</td>\n    </tr>\n    <tr>\n      <th rowspan=\"2\" valign=\"top\">2015</th>\n      <th>Female</th>\n      <td>28.5</td>\n      <td>24.9</td>\n      <td>20.8</td>\n    </tr>\n    <tr>\n      <th>Male</th>\n      <td>26.8</td>\n      <td>18.0</td>\n      <td>21.5</td>\n    </tr>\n  </tbody>\n</table>\n</div>"
     },
     "execution_count": 25,
     "metadata": {},
     "output_type": "execute_result"
    }
   ],
   "source": [
    "index = pd.MultiIndex.from_arrays([[1995,1995,2005,2005,2015,2015],['Female','Male','Female','Male','Female','Male']],names=['year','biological_sex'])\n",
    "columns = pd.MultiIndex.from_arrays([['perc_obesity','perc_obesity','perc_obesity'],['Argentina','Brazil','France']], names=['','country'])\n",
    "data = [[20.2,15.3,15.3],[16.8,8.9,12.8],[24.2,20.1,18.1],[21.5,13.2,16.9],[28.5,24.9,20.8],[26.8,18.0,21.5]]\n",
    "\n",
    "obesity = pd.DataFrame(data, index=index, columns=columns)\n",
    "obesity"
   ],
   "metadata": {
    "collapsed": false,
    "ExecuteTime": {
     "end_time": "2025-01-14T06:44:37.367205100Z",
     "start_time": "2025-01-14T06:44:37.087075300Z"
    }
   },
   "id": "bbd503636f7150ee",
   "execution_count": 25
  }
 ],
 "metadata": {
  "kernelspec": {
   "display_name": "Python 3",
   "language": "python",
   "name": "python3"
  },
  "language_info": {
   "codemirror_mode": {
    "name": "ipython",
    "version": 2
   },
   "file_extension": ".py",
   "mimetype": "text/x-python",
   "name": "python",
   "nbconvert_exporter": "python",
   "pygments_lexer": "ipython2",
   "version": "2.7.6"
  }
 },
 "nbformat": 4,
 "nbformat_minor": 5
}
