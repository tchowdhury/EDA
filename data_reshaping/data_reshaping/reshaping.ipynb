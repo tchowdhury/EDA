{
 "cells": [
  {
   "cell_type": "code",
   "execution_count": 137,
   "id": "initial_id",
   "metadata": {
    "collapsed": true,
    "ExecuteTime": {
     "end_time": "2025-01-14T22:33:36.704648600Z",
     "start_time": "2025-01-14T22:33:34.401111800Z"
    }
   },
   "outputs": [],
   "source": [
    "import pandas as pd"
   ]
  },
  {
   "cell_type": "code",
   "outputs": [],
   "source": [
    "# import data\n",
    "data = pd.read_csv('../data/books.csv')"
   ],
   "metadata": {
    "collapsed": false,
    "ExecuteTime": {
     "end_time": "2025-01-14T22:34:21.580272Z",
     "start_time": "2025-01-14T22:34:16.055462200Z"
    }
   },
   "id": "df21483dbf9dd323",
   "execution_count": 138
  },
  {
   "cell_type": "markdown",
   "source": [
    "## Reshaping with Melt"
   ],
   "metadata": {
    "collapsed": false
   },
   "id": "79bdfe0d4b32117a"
  },
  {
   "cell_type": "code",
   "outputs": [
    {
     "data": {
      "text/plain": "                                                   title  \\\n0      Harry Potter and the Half-Blood Prince (Harry ...   \n1      Harry Potter and the Order of the Phoenix (Har...   \n2      Harry Potter and the Chamber of Secrets (Harry...   \n3      Harry Potter and the Prisoner of Azkaban (Harr...   \n4      Harry Potter Boxed Set  Books 1-5 (Harry Potte...   \n...                                                  ...   \n33376   Expelled from Eden: A William T. Vollmann Reader   \n33377                        You Bright and Risen Angels   \n33378                    The Ice-Shirt (Seven Dreams #1)   \n33379                                        Poor People   \n33380                        Las aventuras de Tom Sawyer   \n\n                                                 authors        publisher  \\\n0                             J.K. Rowling/Mary GrandPré  Scholastic Inc.   \n1                             J.K. Rowling/Mary GrandPré  Scholastic Inc.   \n2                                           J.K. Rowling       Scholastic   \n3                             J.K. Rowling/Mary GrandPré  Scholastic Inc.   \n4                             J.K. Rowling/Mary GrandPré       Scholastic   \n...                                                  ...              ...   \n33376  William T. Vollmann/Larry McCaffery/Michael He...    Da Capo Press   \n33377                                William T. Vollmann    Penguin Books   \n33378                                William T. Vollmann    Penguin Books   \n33379                                William T. Vollmann             Ecco   \n33380                                         Mark Twain    Edimat Libros   \n\n        variable    value  \n0      num_pages   652.00  \n1      num_pages   870.00  \n2      num_pages   352.00  \n3      num_pages   435.00  \n4      num_pages  2690.00  \n...          ...      ...  \n33376     rating     4.06  \n33377     rating     4.08  \n33378     rating     3.96  \n33379     rating     3.72  \n33380     rating     3.91  \n\n[33381 rows x 5 columns]",
      "text/html": "<div>\n<style scoped>\n    .dataframe tbody tr th:only-of-type {\n        vertical-align: middle;\n    }\n\n    .dataframe tbody tr th {\n        vertical-align: top;\n    }\n\n    .dataframe thead th {\n        text-align: right;\n    }\n</style>\n<table border=\"1\" class=\"dataframe\">\n  <thead>\n    <tr style=\"text-align: right;\">\n      <th></th>\n      <th>title</th>\n      <th>authors</th>\n      <th>publisher</th>\n      <th>variable</th>\n      <th>value</th>\n    </tr>\n  </thead>\n  <tbody>\n    <tr>\n      <th>0</th>\n      <td>Harry Potter and the Half-Blood Prince (Harry ...</td>\n      <td>J.K. Rowling/Mary GrandPré</td>\n      <td>Scholastic Inc.</td>\n      <td>num_pages</td>\n      <td>652.00</td>\n    </tr>\n    <tr>\n      <th>1</th>\n      <td>Harry Potter and the Order of the Phoenix (Har...</td>\n      <td>J.K. Rowling/Mary GrandPré</td>\n      <td>Scholastic Inc.</td>\n      <td>num_pages</td>\n      <td>870.00</td>\n    </tr>\n    <tr>\n      <th>2</th>\n      <td>Harry Potter and the Chamber of Secrets (Harry...</td>\n      <td>J.K. Rowling</td>\n      <td>Scholastic</td>\n      <td>num_pages</td>\n      <td>352.00</td>\n    </tr>\n    <tr>\n      <th>3</th>\n      <td>Harry Potter and the Prisoner of Azkaban (Harr...</td>\n      <td>J.K. Rowling/Mary GrandPré</td>\n      <td>Scholastic Inc.</td>\n      <td>num_pages</td>\n      <td>435.00</td>\n    </tr>\n    <tr>\n      <th>4</th>\n      <td>Harry Potter Boxed Set  Books 1-5 (Harry Potte...</td>\n      <td>J.K. Rowling/Mary GrandPré</td>\n      <td>Scholastic</td>\n      <td>num_pages</td>\n      <td>2690.00</td>\n    </tr>\n    <tr>\n      <th>...</th>\n      <td>...</td>\n      <td>...</td>\n      <td>...</td>\n      <td>...</td>\n      <td>...</td>\n    </tr>\n    <tr>\n      <th>33376</th>\n      <td>Expelled from Eden: A William T. Vollmann Reader</td>\n      <td>William T. Vollmann/Larry McCaffery/Michael He...</td>\n      <td>Da Capo Press</td>\n      <td>rating</td>\n      <td>4.06</td>\n    </tr>\n    <tr>\n      <th>33377</th>\n      <td>You Bright and Risen Angels</td>\n      <td>William T. Vollmann</td>\n      <td>Penguin Books</td>\n      <td>rating</td>\n      <td>4.08</td>\n    </tr>\n    <tr>\n      <th>33378</th>\n      <td>The Ice-Shirt (Seven Dreams #1)</td>\n      <td>William T. Vollmann</td>\n      <td>Penguin Books</td>\n      <td>rating</td>\n      <td>3.96</td>\n    </tr>\n    <tr>\n      <th>33379</th>\n      <td>Poor People</td>\n      <td>William T. Vollmann</td>\n      <td>Ecco</td>\n      <td>rating</td>\n      <td>3.72</td>\n    </tr>\n    <tr>\n      <th>33380</th>\n      <td>Las aventuras de Tom Sawyer</td>\n      <td>Mark Twain</td>\n      <td>Edimat Libros</td>\n      <td>rating</td>\n      <td>3.91</td>\n    </tr>\n  </tbody>\n</table>\n<p>33381 rows × 5 columns</p>\n</div>"
     },
     "execution_count": 139,
     "metadata": {},
     "output_type": "execute_result"
    }
   ],
   "source": [
    "books_gothic = data[['title','authors','  num_pages','ratings_count','average_rating','publisher']]\n",
    "books_gothic = books_gothic.rename(columns={'  num_pages':'num_pages','ratings_count':'rating_count','average_rating':'rating'})\n",
    "books_gothic\n",
    "# Melt books_gothic using the title column as identifier \n",
    "gothic_melted = books_gothic.melt(id_vars='title')\n",
    "\n",
    "# Print gothic_melted\n",
    "#print(gothic_melted)\n",
    "\n",
    "\n",
    "# Melt books_gothic using the title, authors, and publisher columns as identifier\n",
    "gothic_melted_new =  books_gothic.melt(id_vars=['title','authors','publisher'])\n",
    "\n",
    "# Print gothic_melted_new\n",
    "gothic_melted_new"
   ],
   "metadata": {
    "collapsed": false,
    "ExecuteTime": {
     "end_time": "2025-01-14T22:34:30.045163300Z",
     "start_time": "2025-01-14T22:34:25.240154300Z"
    }
   },
   "id": "7711b0bf708cb53e",
   "execution_count": 139
  },
  {
   "cell_type": "code",
   "outputs": [
    {
     "name": "stdout",
     "output_type": "stream",
     "text": [
      "                                                   title  \\\n",
      "0      Harry Potter and the Half-Blood Prince (Harry ...   \n",
      "1      Harry Potter and the Order of the Phoenix (Har...   \n",
      "2      Harry Potter and the Chamber of Secrets (Harry...   \n",
      "3      Harry Potter and the Prisoner of Azkaban (Harr...   \n",
      "4      Harry Potter Boxed Set  Books 1-5 (Harry Potte...   \n",
      "...                                                  ...   \n",
      "11122   Expelled from Eden: A William T. Vollmann Reader   \n",
      "11123                        You Bright and Risen Angels   \n",
      "11124                    The Ice-Shirt (Seven Dreams #1)   \n",
      "11125                                        Poor People   \n",
      "11126                        Las aventuras de Tom Sawyer   \n",
      "\n",
      "                                                 authors   variable  \\\n",
      "0                             J.K. Rowling/Mary GrandPré  publisher   \n",
      "1                             J.K. Rowling/Mary GrandPré  publisher   \n",
      "2                                           J.K. Rowling  publisher   \n",
      "3                             J.K. Rowling/Mary GrandPré  publisher   \n",
      "4                             J.K. Rowling/Mary GrandPré  publisher   \n",
      "...                                                  ...        ...   \n",
      "11122  William T. Vollmann/Larry McCaffery/Michael He...  publisher   \n",
      "11123                                William T. Vollmann  publisher   \n",
      "11124                                William T. Vollmann  publisher   \n",
      "11125                                William T. Vollmann  publisher   \n",
      "11126                                         Mark Twain  publisher   \n",
      "\n",
      "                 value  \n",
      "0      Scholastic Inc.  \n",
      "1      Scholastic Inc.  \n",
      "2           Scholastic  \n",
      "3      Scholastic Inc.  \n",
      "4           Scholastic  \n",
      "...                ...  \n",
      "11122    Da Capo Press  \n",
      "11123    Penguin Books  \n",
      "11124    Penguin Books  \n",
      "11125             Ecco  \n",
      "11126    Edimat Libros  \n",
      "\n",
      "[11127 rows x 4 columns]\n"
     ]
    }
   ],
   "source": [
    "# Melt publisher column using title and authors as identifiers\n",
    "publisher_melted = books_gothic.melt(id_vars=['title', 'authors'], \n",
    "                                     value_vars='publisher')\n",
    "\n",
    "# Print publisher_melted\n",
    "print(publisher_melted)"
   ],
   "metadata": {
    "collapsed": false,
    "ExecuteTime": {
     "end_time": "2025-01-13T05:06:22.818634700Z",
     "start_time": "2025-01-13T05:06:22.796595800Z"
    }
   },
   "id": "202223b6bb25f8f8",
   "execution_count": 25
  },
  {
   "cell_type": "code",
   "outputs": [
    {
     "data": {
      "text/plain": "                                                   title      variable   value\n0      Harry Potter and the Half-Blood Prince (Harry ...        rating    4.57\n1      Harry Potter and the Order of the Phoenix (Har...        rating    4.49\n2      Harry Potter and the Chamber of Secrets (Harry...        rating    4.42\n3      Harry Potter and the Prisoner of Azkaban (Harr...        rating    4.56\n4      Harry Potter Boxed Set  Books 1-5 (Harry Potte...        rating    4.78\n...                                                  ...           ...     ...\n22249   Expelled from Eden: A William T. Vollmann Reader  rating_count  156.00\n22250                        You Bright and Risen Angels  rating_count  783.00\n22251                    The Ice-Shirt (Seven Dreams #1)  rating_count  820.00\n22252                                        Poor People  rating_count  769.00\n22253                        Las aventuras de Tom Sawyer  rating_count  113.00\n\n[22254 rows x 3 columns]",
      "text/html": "<div>\n<style scoped>\n    .dataframe tbody tr th:only-of-type {\n        vertical-align: middle;\n    }\n\n    .dataframe tbody tr th {\n        vertical-align: top;\n    }\n\n    .dataframe thead th {\n        text-align: right;\n    }\n</style>\n<table border=\"1\" class=\"dataframe\">\n  <thead>\n    <tr style=\"text-align: right;\">\n      <th></th>\n      <th>title</th>\n      <th>variable</th>\n      <th>value</th>\n    </tr>\n  </thead>\n  <tbody>\n    <tr>\n      <th>0</th>\n      <td>Harry Potter and the Half-Blood Prince (Harry ...</td>\n      <td>rating</td>\n      <td>4.57</td>\n    </tr>\n    <tr>\n      <th>1</th>\n      <td>Harry Potter and the Order of the Phoenix (Har...</td>\n      <td>rating</td>\n      <td>4.49</td>\n    </tr>\n    <tr>\n      <th>2</th>\n      <td>Harry Potter and the Chamber of Secrets (Harry...</td>\n      <td>rating</td>\n      <td>4.42</td>\n    </tr>\n    <tr>\n      <th>3</th>\n      <td>Harry Potter and the Prisoner of Azkaban (Harr...</td>\n      <td>rating</td>\n      <td>4.56</td>\n    </tr>\n    <tr>\n      <th>4</th>\n      <td>Harry Potter Boxed Set  Books 1-5 (Harry Potte...</td>\n      <td>rating</td>\n      <td>4.78</td>\n    </tr>\n    <tr>\n      <th>...</th>\n      <td>...</td>\n      <td>...</td>\n      <td>...</td>\n    </tr>\n    <tr>\n      <th>22249</th>\n      <td>Expelled from Eden: A William T. Vollmann Reader</td>\n      <td>rating_count</td>\n      <td>156.00</td>\n    </tr>\n    <tr>\n      <th>22250</th>\n      <td>You Bright and Risen Angels</td>\n      <td>rating_count</td>\n      <td>783.00</td>\n    </tr>\n    <tr>\n      <th>22251</th>\n      <td>The Ice-Shirt (Seven Dreams #1)</td>\n      <td>rating_count</td>\n      <td>820.00</td>\n    </tr>\n    <tr>\n      <th>22252</th>\n      <td>Poor People</td>\n      <td>rating_count</td>\n      <td>769.00</td>\n    </tr>\n    <tr>\n      <th>22253</th>\n      <td>Las aventuras de Tom Sawyer</td>\n      <td>rating_count</td>\n      <td>113.00</td>\n    </tr>\n  </tbody>\n</table>\n<p>22254 rows × 3 columns</p>\n</div>"
     },
     "execution_count": 26,
     "metadata": {},
     "output_type": "execute_result"
    }
   ],
   "source": [
    "# Melt rating and rating_count columns using the title as identifier\n",
    "rating_melted = books_gothic.melt(id_vars='title', \n",
    "                                  value_vars=['rating', 'rating_count'])\n",
    "\n",
    "# Print rating_melted\n",
    "rating_melted"
   ],
   "metadata": {
    "collapsed": false,
    "ExecuteTime": {
     "end_time": "2025-01-13T05:08:27.536144Z",
     "start_time": "2025-01-13T05:08:27.381766500Z"
    }
   },
   "id": "f4e0244a86aa5f16",
   "execution_count": 26
  },
  {
   "cell_type": "code",
   "outputs": [
    {
     "name": "stdout",
     "output_type": "stream",
     "text": [
      "                                                   title  \\\n",
      "0      Harry Potter and the Half-Blood Prince (Harry ...   \n",
      "1      Harry Potter and the Order of the Phoenix (Har...   \n",
      "2      Harry Potter and the Chamber of Secrets (Harry...   \n",
      "3      Harry Potter and the Prisoner of Azkaban (Harr...   \n",
      "4      Harry Potter Boxed Set  Books 1-5 (Harry Potte...   \n",
      "...                                                  ...   \n",
      "22249   Expelled from Eden: A William T. Vollmann Reader   \n",
      "22250                        You Bright and Risen Angels   \n",
      "22251                    The Ice-Shirt (Seven Dreams #1)   \n",
      "22252                                        Poor People   \n",
      "22253                        Las aventuras de Tom Sawyer   \n",
      "\n",
      "                                                 authors      variable   value  \n",
      "0                             J.K. Rowling/Mary GrandPré        rating    4.57  \n",
      "1                             J.K. Rowling/Mary GrandPré        rating    4.49  \n",
      "2                                           J.K. Rowling        rating    4.42  \n",
      "3                             J.K. Rowling/Mary GrandPré        rating    4.56  \n",
      "4                             J.K. Rowling/Mary GrandPré        rating    4.78  \n",
      "...                                                  ...           ...     ...  \n",
      "22249  William T. Vollmann/Larry McCaffery/Michael He...  rating_count  156.00  \n",
      "22250                                William T. Vollmann  rating_count  783.00  \n",
      "22251                                William T. Vollmann  rating_count  820.00  \n",
      "22252                                William T. Vollmann  rating_count  769.00  \n",
      "22253                                         Mark Twain  rating_count  113.00  \n",
      "\n",
      "[22254 rows x 4 columns]\n"
     ]
    }
   ],
   "source": [
    "# Melt rating and rating_count columns using title and authors as identifier\n",
    "books_melted = books_gothic.melt(id_vars=['title', 'authors'], \n",
    "                                 value_vars=['rating', 'rating_count'])\n",
    "\n",
    "# Print books_melted\n",
    "print(books_melted)"
   ],
   "metadata": {
    "collapsed": false,
    "ExecuteTime": {
     "end_time": "2025-01-13T05:10:02.483006300Z",
     "start_time": "2025-01-13T05:10:02.407590500Z"
    }
   },
   "id": "69572c703c86cd34",
   "execution_count": 27
  },
  {
   "cell_type": "code",
   "outputs": [
    {
     "name": "stdout",
     "output_type": "stream",
     "text": [
      "                                                   title  \\\n",
      "0      Harry Potter and the Half-Blood Prince (Harry ...   \n",
      "1      Harry Potter and the Order of the Phoenix (Har...   \n",
      "2      Harry Potter and the Chamber of Secrets (Harry...   \n",
      "3      Harry Potter and the Prisoner of Azkaban (Harr...   \n",
      "4      Harry Potter Boxed Set  Books 1-5 (Harry Potte...   \n",
      "...                                                  ...   \n",
      "22249   Expelled from Eden: A William T. Vollmann Reader   \n",
      "22250                        You Bright and Risen Angels   \n",
      "22251                    The Ice-Shirt (Seven Dreams #1)   \n",
      "22252                                        Poor People   \n",
      "22253                        Las aventuras de Tom Sawyer   \n",
      "\n",
      "                                                 authors        publisher  \\\n",
      "0                             J.K. Rowling/Mary GrandPré  Scholastic Inc.   \n",
      "1                             J.K. Rowling/Mary GrandPré  Scholastic Inc.   \n",
      "2                                           J.K. Rowling       Scholastic   \n",
      "3                             J.K. Rowling/Mary GrandPré  Scholastic Inc.   \n",
      "4                             J.K. Rowling/Mary GrandPré       Scholastic   \n",
      "...                                                  ...              ...   \n",
      "22249  William T. Vollmann/Larry McCaffery/Michael He...    Da Capo Press   \n",
      "22250                                William T. Vollmann    Penguin Books   \n",
      "22251                                William T. Vollmann    Penguin Books   \n",
      "22252                                William T. Vollmann             Ecco   \n",
      "22253                                         Mark Twain    Edimat Libros   \n",
      "\n",
      "            feature  number  \n",
      "0            rating    4.57  \n",
      "1            rating    4.49  \n",
      "2            rating    4.42  \n",
      "3            rating    4.56  \n",
      "4            rating    4.78  \n",
      "...             ...     ...  \n",
      "22249  rating_count  156.00  \n",
      "22250  rating_count  783.00  \n",
      "22251  rating_count  820.00  \n",
      "22252  rating_count  769.00  \n",
      "22253  rating_count  113.00  \n",
      "\n",
      "[22254 rows x 5 columns]\n"
     ]
    }
   ],
   "source": [
    "# Assign the name number to the new column containing the values\n",
    "books_ratings = books_gothic.melt(id_vars=['title', 'authors', 'publisher'], \n",
    "                                  value_vars=['rating', 'rating_count'], \n",
    "                                  var_name='feature', \n",
    "                                  value_name='number')\n",
    "\n",
    "# Print books_ratings\n",
    "print(books_ratings)"
   ],
   "metadata": {
    "collapsed": false,
    "ExecuteTime": {
     "end_time": "2025-01-13T05:15:01.546499600Z",
     "start_time": "2025-01-13T05:15:01.513178900Z"
    }
   },
   "id": "56a3ec4f0b2d7699",
   "execution_count": 28
  },
  {
   "cell_type": "markdown",
   "source": [
    "## Wide to long Function"
   ],
   "metadata": {
    "collapsed": false
   },
   "id": "f91bc07da59e924e"
  },
  {
   "cell_type": "code",
   "outputs": [
    {
     "data": {
      "text/plain": "               title              authors         isbn13      isbn10  \\\n0   The Great Gatsby  F. Scott Fitzgerald  9780060098919  1572702567   \n1  The Short Stories     Ernest Hemingway  9780684837864   684837862   \n2  To the Lighthouse       Virginia Woolf  9780156030472   156030470   \n\n   prefix13  prefix10  \n0       978         1  \n1       978         0  \n2       978         0  ",
      "text/html": "<div>\n<style scoped>\n    .dataframe tbody tr th:only-of-type {\n        vertical-align: middle;\n    }\n\n    .dataframe tbody tr th {\n        vertical-align: top;\n    }\n\n    .dataframe thead th {\n        text-align: right;\n    }\n</style>\n<table border=\"1\" class=\"dataframe\">\n  <thead>\n    <tr style=\"text-align: right;\">\n      <th></th>\n      <th>title</th>\n      <th>authors</th>\n      <th>isbn13</th>\n      <th>isbn10</th>\n      <th>prefix13</th>\n      <th>prefix10</th>\n    </tr>\n  </thead>\n  <tbody>\n    <tr>\n      <th>0</th>\n      <td>The Great Gatsby</td>\n      <td>F. Scott Fitzgerald</td>\n      <td>9780060098919</td>\n      <td>1572702567</td>\n      <td>978</td>\n      <td>1</td>\n    </tr>\n    <tr>\n      <th>1</th>\n      <td>The Short Stories</td>\n      <td>Ernest Hemingway</td>\n      <td>9780684837864</td>\n      <td>684837862</td>\n      <td>978</td>\n      <td>0</td>\n    </tr>\n    <tr>\n      <th>2</th>\n      <td>To the Lighthouse</td>\n      <td>Virginia Woolf</td>\n      <td>9780156030472</td>\n      <td>156030470</td>\n      <td>978</td>\n      <td>0</td>\n    </tr>\n  </tbody>\n</table>\n</div>"
     },
     "execution_count": 30,
     "metadata": {},
     "output_type": "execute_result"
    }
   ],
   "source": [
    "golden_age = pd.DataFrame({\n",
    "    'title': ['The Great Gatsby','The Short Stories','To the Lighthouse'],\n",
    "    'authors': ['F. Scott Fitzgerald','Ernest Hemingway','Virginia Woolf'],\n",
    "    'isbn13': ['9780060098919','9780684837864','9780156030472'],\n",
    "    'isbn10': ['1572702567','684837862','156030470'],\n",
    "    'prefix13': [978,978,978],\n",
    "    'prefix10': [1,0,0]\n",
    "})\n",
    "\n",
    "golden_age"
   ],
   "metadata": {
    "collapsed": false,
    "ExecuteTime": {
     "end_time": "2025-01-13T05:40:28.890280200Z",
     "start_time": "2025-01-13T05:40:28.841394Z"
    }
   },
   "id": "2b9afa6f40b85da9",
   "execution_count": 30
  },
  {
   "cell_type": "code",
   "outputs": [],
   "source": [
    "# alternate way to subset the data\n",
    "isbn13 =  [9780060098919,9780684837864,9780156030472]\n",
    "x = data[data['isbn13'].isin(isbn13)][['title','authors','isbn13','isbn']]\n",
    "x = x.rename(columns={'isbn':'isbn10'})\n",
    "x['prefix13'] = 978\n",
    "x['prefix10'] = [1,0,0]\n",
    "x \n",
    "#x[['title','authors','isbn13','isbn']]"
   ],
   "metadata": {
    "collapsed": false
   },
   "id": "99588ad3ded98c3f"
  },
  {
   "cell_type": "code",
   "outputs": [
    {
     "data": {
      "text/plain": "                                       authors  prefix10  prefix13  \\\ntitle             version                                            \nThe Great Gatsby  13       F. Scott Fitzgerald         1       978   \nThe Short Stories 13          Ernest Hemingway         0       978   \nTo the Lighthouse 13            Virginia Woolf         0       978   \nThe Great Gatsby  10       F. Scott Fitzgerald         1       978   \nThe Short Stories 10          Ernest Hemingway         0       978   \nTo the Lighthouse 10            Virginia Woolf         0       978   \n\n                                    isbn  \ntitle             version                 \nThe Great Gatsby  13       9780060098919  \nThe Short Stories 13       9780684837864  \nTo the Lighthouse 13       9780156030472  \nThe Great Gatsby  10          1572702567  \nThe Short Stories 10           684837862  \nTo the Lighthouse 10           156030470  ",
      "text/html": "<div>\n<style scoped>\n    .dataframe tbody tr th:only-of-type {\n        vertical-align: middle;\n    }\n\n    .dataframe tbody tr th {\n        vertical-align: top;\n    }\n\n    .dataframe thead th {\n        text-align: right;\n    }\n</style>\n<table border=\"1\" class=\"dataframe\">\n  <thead>\n    <tr style=\"text-align: right;\">\n      <th></th>\n      <th></th>\n      <th>authors</th>\n      <th>prefix10</th>\n      <th>prefix13</th>\n      <th>isbn</th>\n    </tr>\n    <tr>\n      <th>title</th>\n      <th>version</th>\n      <th></th>\n      <th></th>\n      <th></th>\n      <th></th>\n    </tr>\n  </thead>\n  <tbody>\n    <tr>\n      <th>The Great Gatsby</th>\n      <th>13</th>\n      <td>F. Scott Fitzgerald</td>\n      <td>1</td>\n      <td>978</td>\n      <td>9780060098919</td>\n    </tr>\n    <tr>\n      <th>The Short Stories</th>\n      <th>13</th>\n      <td>Ernest Hemingway</td>\n      <td>0</td>\n      <td>978</td>\n      <td>9780684837864</td>\n    </tr>\n    <tr>\n      <th>To the Lighthouse</th>\n      <th>13</th>\n      <td>Virginia Woolf</td>\n      <td>0</td>\n      <td>978</td>\n      <td>9780156030472</td>\n    </tr>\n    <tr>\n      <th>The Great Gatsby</th>\n      <th>10</th>\n      <td>F. Scott Fitzgerald</td>\n      <td>1</td>\n      <td>978</td>\n      <td>1572702567</td>\n    </tr>\n    <tr>\n      <th>The Short Stories</th>\n      <th>10</th>\n      <td>Ernest Hemingway</td>\n      <td>0</td>\n      <td>978</td>\n      <td>684837862</td>\n    </tr>\n    <tr>\n      <th>To the Lighthouse</th>\n      <th>10</th>\n      <td>Virginia Woolf</td>\n      <td>0</td>\n      <td>978</td>\n      <td>156030470</td>\n    </tr>\n  </tbody>\n</table>\n</div>"
     },
     "execution_count": 32,
     "metadata": {},
     "output_type": "execute_result"
    }
   ],
   "source": [
    "# Reshape wide to long using title as index and version as new name, and extracting isbn prefix \n",
    "isbn_long = pd.wide_to_long(golden_age, \n",
    "                    stubnames=['isbn'], \n",
    "                    i=['title'], \n",
    "                    j='version')\n",
    "\n",
    "# Print isbn_long\n",
    "isbn_long"
   ],
   "metadata": {
    "collapsed": false,
    "ExecuteTime": {
     "end_time": "2025-01-13T05:43:44.259351800Z",
     "start_time": "2025-01-13T05:43:44.204257400Z"
    }
   },
   "id": "e02cf83ca9c4cb2c",
   "execution_count": 32
  },
  {
   "cell_type": "code",
   "outputs": [
    {
     "data": {
      "text/plain": "                                                   isbn10         isbn13  \\\ntitle             authors             version                              \nThe Great Gatsby  F. Scott Fitzgerald 13       1572702567  9780060098919   \n                                      10       1572702567  9780060098919   \nThe Short Stories Ernest Hemingway    13        684837862  9780684837864   \n                                      10        684837862  9780684837864   \nTo the Lighthouse Virginia Woolf      13        156030470  9780156030472   \n                                      10        156030470  9780156030472   \n\n                                               prefix  \ntitle             authors             version          \nThe Great Gatsby  F. Scott Fitzgerald 13          978  \n                                      10            1  \nThe Short Stories Ernest Hemingway    13          978  \n                                      10            0  \nTo the Lighthouse Virginia Woolf      13          978  \n                                      10            0  ",
      "text/html": "<div>\n<style scoped>\n    .dataframe tbody tr th:only-of-type {\n        vertical-align: middle;\n    }\n\n    .dataframe tbody tr th {\n        vertical-align: top;\n    }\n\n    .dataframe thead th {\n        text-align: right;\n    }\n</style>\n<table border=\"1\" class=\"dataframe\">\n  <thead>\n    <tr style=\"text-align: right;\">\n      <th></th>\n      <th></th>\n      <th></th>\n      <th>isbn10</th>\n      <th>isbn13</th>\n      <th>prefix</th>\n    </tr>\n    <tr>\n      <th>title</th>\n      <th>authors</th>\n      <th>version</th>\n      <th></th>\n      <th></th>\n      <th></th>\n    </tr>\n  </thead>\n  <tbody>\n    <tr>\n      <th rowspan=\"2\" valign=\"top\">The Great Gatsby</th>\n      <th rowspan=\"2\" valign=\"top\">F. Scott Fitzgerald</th>\n      <th>13</th>\n      <td>1572702567</td>\n      <td>9780060098919</td>\n      <td>978</td>\n    </tr>\n    <tr>\n      <th>10</th>\n      <td>1572702567</td>\n      <td>9780060098919</td>\n      <td>1</td>\n    </tr>\n    <tr>\n      <th rowspan=\"2\" valign=\"top\">The Short Stories</th>\n      <th rowspan=\"2\" valign=\"top\">Ernest Hemingway</th>\n      <th>13</th>\n      <td>684837862</td>\n      <td>9780684837864</td>\n      <td>978</td>\n    </tr>\n    <tr>\n      <th>10</th>\n      <td>684837862</td>\n      <td>9780684837864</td>\n      <td>0</td>\n    </tr>\n    <tr>\n      <th rowspan=\"2\" valign=\"top\">To the Lighthouse</th>\n      <th rowspan=\"2\" valign=\"top\">Virginia Woolf</th>\n      <th>13</th>\n      <td>156030470</td>\n      <td>9780156030472</td>\n      <td>978</td>\n    </tr>\n    <tr>\n      <th>10</th>\n      <td>156030470</td>\n      <td>9780156030472</td>\n      <td>0</td>\n    </tr>\n  </tbody>\n</table>\n</div>"
     },
     "execution_count": 35,
     "metadata": {},
     "output_type": "execute_result"
    }
   ],
   "source": [
    "# Reshape wide to long using title and authors as index and version as new name, and prefix as wide column prefix\n",
    "prefix_long = pd.wide_to_long(golden_age, \n",
    "                      stubnames=['prefix'], \n",
    "                      i=['title', 'authors'], \n",
    "                      j='version')\n",
    "\n",
    "# Print prefix_long\n",
    "prefix_long"
   ],
   "metadata": {
    "collapsed": false,
    "ExecuteTime": {
     "end_time": "2025-01-13T05:45:58.127844800Z",
     "start_time": "2025-01-13T05:45:57.759170100Z"
    }
   },
   "id": "5218716bbe1e89e7",
   "execution_count": 35
  },
  {
   "cell_type": "code",
   "outputs": [
    {
     "name": "stdout",
     "output_type": "stream",
     "text": [
      "                                               prefix           isbn\n",
      "title             authors             version                       \n",
      "The Great Gatsby  F. Scott Fitzgerald 13          978  9780060098919\n",
      "                                      10            1     1572702567\n",
      "The Short Stories Ernest Hemingway    13          978  9780684837864\n",
      "                                      10            0      684837862\n",
      "To the Lighthouse Virginia Woolf      13          978  9780156030472\n",
      "                                      10            0      156030470\n"
     ]
    }
   ],
   "source": [
    "# Reshape wide to long using title and authors as index and version as new name, and prefix and isbn as wide column prefixes\n",
    "all_long = pd.wide_to_long(golden_age, \n",
    "                   stubnames=['prefix','isbn'] , \n",
    "                   i=['title', 'authors'],  \n",
    "                   j='version')\n",
    "\n",
    "# Print all_long\n",
    "print(all_long)"
   ],
   "metadata": {
    "collapsed": false,
    "ExecuteTime": {
     "end_time": "2025-01-13T05:47:29.822433200Z",
     "start_time": "2025-01-13T05:47:29.765033800Z"
    }
   },
   "id": "818f341bc415863",
   "execution_count": 36
  },
  {
   "cell_type": "code",
   "outputs": [
    {
     "data": {
      "text/plain": "                  title     author  language_code language_name  \\\n0     The Da Vinci Code  Dan Brown              0       english   \n1       Angels & Demons  Dan Brown              0       english   \n2  La fortaleza digital  Dan Brown             84       english   \n\n   publisher_code publisher_name  \n0              12   Random House  \n1              34   Pocket Books  \n2              48        Umbriel  ",
      "text/html": "<div>\n<style scoped>\n    .dataframe tbody tr th:only-of-type {\n        vertical-align: middle;\n    }\n\n    .dataframe tbody tr th {\n        vertical-align: top;\n    }\n\n    .dataframe thead th {\n        text-align: right;\n    }\n</style>\n<table border=\"1\" class=\"dataframe\">\n  <thead>\n    <tr style=\"text-align: right;\">\n      <th></th>\n      <th>title</th>\n      <th>author</th>\n      <th>language_code</th>\n      <th>language_name</th>\n      <th>publisher_code</th>\n      <th>publisher_name</th>\n    </tr>\n  </thead>\n  <tbody>\n    <tr>\n      <th>0</th>\n      <td>The Da Vinci Code</td>\n      <td>Dan Brown</td>\n      <td>0</td>\n      <td>english</td>\n      <td>12</td>\n      <td>Random House</td>\n    </tr>\n    <tr>\n      <th>1</th>\n      <td>Angels &amp; Demons</td>\n      <td>Dan Brown</td>\n      <td>0</td>\n      <td>english</td>\n      <td>34</td>\n      <td>Pocket Books</td>\n    </tr>\n    <tr>\n      <th>2</th>\n      <td>La fortaleza digital</td>\n      <td>Dan Brown</td>\n      <td>84</td>\n      <td>english</td>\n      <td>48</td>\n      <td>Umbriel</td>\n    </tr>\n  </tbody>\n</table>\n</div>"
     },
     "execution_count": 38,
     "metadata": {},
     "output_type": "execute_result"
    }
   ],
   "source": [
    "books_brown = pd.DataFrame({\n",
    "    'title': ['The Da Vinci Code','Angels & Demons','La fortaleza digital'],\n",
    "    'author': ['Dan Brown','Dan Brown','Dan Brown'],\n",
    "    'language_code': [0,0,84],\n",
    "    'language_name': ['english','english','english'],\n",
    "    'publisher_code': [12,34,48],\n",
    "    'publisher_name': ['Random House','Pocket Books','Umbriel']\n",
    "})\n",
    "\n"
   ],
   "metadata": {
    "collapsed": false,
    "ExecuteTime": {
     "end_time": "2025-01-13T05:52:23.538851500Z",
     "start_time": "2025-01-13T05:52:23.385559500Z"
    }
   },
   "id": "6ee0974a15be4163",
   "execution_count": 38
  },
  {
   "cell_type": "code",
   "outputs": [
    {
     "data": {
      "text/plain": "   index                 title language_name  publisher_name     author  \\\n0    311     The Da Vinci Code           eng  Broadway Books  Dan Brown   \n1   1229     The Da Vinci Code           eng          Anchor  Dan Brown   \n2  10080  La fortaleza digital           spa         Umbriel  Dan Brown   \n\n   language_code  publisher_code  \n0              0              12  \n1              0              34  \n2             84              48  ",
      "text/html": "<div>\n<style scoped>\n    .dataframe tbody tr th:only-of-type {\n        vertical-align: middle;\n    }\n\n    .dataframe tbody tr th {\n        vertical-align: top;\n    }\n\n    .dataframe thead th {\n        text-align: right;\n    }\n</style>\n<table border=\"1\" class=\"dataframe\">\n  <thead>\n    <tr style=\"text-align: right;\">\n      <th></th>\n      <th>index</th>\n      <th>title</th>\n      <th>language_name</th>\n      <th>publisher_name</th>\n      <th>author</th>\n      <th>language_code</th>\n      <th>publisher_code</th>\n    </tr>\n  </thead>\n  <tbody>\n    <tr>\n      <th>0</th>\n      <td>311</td>\n      <td>The Da Vinci Code</td>\n      <td>eng</td>\n      <td>Broadway Books</td>\n      <td>Dan Brown</td>\n      <td>0</td>\n      <td>12</td>\n    </tr>\n    <tr>\n      <th>1</th>\n      <td>1229</td>\n      <td>The Da Vinci Code</td>\n      <td>eng</td>\n      <td>Anchor</td>\n      <td>Dan Brown</td>\n      <td>0</td>\n      <td>34</td>\n    </tr>\n    <tr>\n      <th>2</th>\n      <td>10080</td>\n      <td>La fortaleza digital</td>\n      <td>spa</td>\n      <td>Umbriel</td>\n      <td>Dan Brown</td>\n      <td>84</td>\n      <td>48</td>\n    </tr>\n  </tbody>\n</table>\n</div>"
     },
     "execution_count": 136,
     "metadata": {},
     "output_type": "execute_result"
    }
   ],
   "source": [
    "# Alternate way to create data\n",
    "title = ['The Da Vinci Code','Angels & Demons','La fortaleza digital']\n",
    "y = data[data['title'].isin(title)][['title','authors','language_code','publisher']]\n",
    "y = y.rename(columns={'publisher':'publisher_name','language_code':'language_name'})\n",
    "y[['author','illustrator']] = y['authors'].str.split('/', expand=True)\n",
    "y['language_code'] = [0,0,84]\n",
    "y['publisher_code'] = [12,34,48]\n",
    "y = y.drop(['authors','illustrator'], axis=1)\n",
    "y.reset_index(inplace=True)\n",
    "y"
   ],
   "metadata": {
    "collapsed": false,
    "ExecuteTime": {
     "end_time": "2025-01-13T22:48:02.796281900Z",
     "start_time": "2025-01-13T22:48:02.522878700Z"
    }
   },
   "id": "81283634d0821dc3",
   "execution_count": 136
  },
  {
   "cell_type": "code",
   "outputs": [
    {
     "data": {
      "text/plain": "                                    language     publisher\nauthor    title                code                       \nDan Brown The Da Vinci Code    code        0            12\n                               name  english  Random House\n          Angels & Demons      code        0            34\n                               name  english  Pocket Books\n          La fortaleza digital code       84            48\n                               name  english       Umbriel",
      "text/html": "<div>\n<style scoped>\n    .dataframe tbody tr th:only-of-type {\n        vertical-align: middle;\n    }\n\n    .dataframe tbody tr th {\n        vertical-align: top;\n    }\n\n    .dataframe thead th {\n        text-align: right;\n    }\n</style>\n<table border=\"1\" class=\"dataframe\">\n  <thead>\n    <tr style=\"text-align: right;\">\n      <th></th>\n      <th></th>\n      <th></th>\n      <th>language</th>\n      <th>publisher</th>\n    </tr>\n    <tr>\n      <th>author</th>\n      <th>title</th>\n      <th>code</th>\n      <th></th>\n      <th></th>\n    </tr>\n  </thead>\n  <tbody>\n    <tr>\n      <th rowspan=\"6\" valign=\"top\">Dan Brown</th>\n      <th rowspan=\"2\" valign=\"top\">The Da Vinci Code</th>\n      <th>code</th>\n      <td>0</td>\n      <td>12</td>\n    </tr>\n    <tr>\n      <th>name</th>\n      <td>english</td>\n      <td>Random House</td>\n    </tr>\n    <tr>\n      <th rowspan=\"2\" valign=\"top\">Angels &amp; Demons</th>\n      <th>code</th>\n      <td>0</td>\n      <td>34</td>\n    </tr>\n    <tr>\n      <th>name</th>\n      <td>english</td>\n      <td>Pocket Books</td>\n    </tr>\n    <tr>\n      <th rowspan=\"2\" valign=\"top\">La fortaleza digital</th>\n      <th>code</th>\n      <td>84</td>\n      <td>48</td>\n    </tr>\n    <tr>\n      <th>name</th>\n      <td>english</td>\n      <td>Umbriel</td>\n    </tr>\n  </tbody>\n</table>\n</div>"
     },
     "execution_count": 45,
     "metadata": {},
     "output_type": "execute_result"
    }
   ],
   "source": [
    "# Reshape using author and title as index, code as new name and getting the prefix language and publisher\n",
    "the_code_long = pd.wide_to_long(books_brown, \n",
    "                                stubnames=['language','publisher'], \n",
    "                                i=['author','title'], \n",
    "                                j='code',\n",
    "                                sep='_',\n",
    "                                suffix=\"\\\\w+\")\n",
    "\n",
    "# Print the_code_long\n",
    "the_code_long"
   ],
   "metadata": {
    "collapsed": false,
    "ExecuteTime": {
     "end_time": "2025-01-13T05:59:07.645906500Z",
     "start_time": "2025-01-13T05:59:07.262383200Z"
    }
   },
   "id": "68a75983a1efc901",
   "execution_count": 45
  },
  {
   "cell_type": "code",
   "outputs": [
    {
     "data": {
      "text/plain": "                    title language publication date  publication number  \\\n0  TLos Juegos del Hambre  Spanish        5/25/2010                   2   \n1           Catching Fire  Englisg        5/25/2012                   6   \n2  Il canto della rivolta  Italian         6/8/2015                   4   \n\n   page number  \n0          374  \n1          405  \n2          523  ",
      "text/html": "<div>\n<style scoped>\n    .dataframe tbody tr th:only-of-type {\n        vertical-align: middle;\n    }\n\n    .dataframe tbody tr th {\n        vertical-align: top;\n    }\n\n    .dataframe thead th {\n        text-align: right;\n    }\n</style>\n<table border=\"1\" class=\"dataframe\">\n  <thead>\n    <tr style=\"text-align: right;\">\n      <th></th>\n      <th>title</th>\n      <th>language</th>\n      <th>publication date</th>\n      <th>publication number</th>\n      <th>page number</th>\n    </tr>\n  </thead>\n  <tbody>\n    <tr>\n      <th>0</th>\n      <td>TLos Juegos del Hambre</td>\n      <td>Spanish</td>\n      <td>5/25/2010</td>\n      <td>2</td>\n      <td>374</td>\n    </tr>\n    <tr>\n      <th>1</th>\n      <td>Catching Fire</td>\n      <td>Englisg</td>\n      <td>5/25/2012</td>\n      <td>6</td>\n      <td>405</td>\n    </tr>\n    <tr>\n      <th>2</th>\n      <td>Il canto della rivolta</td>\n      <td>Italian</td>\n      <td>6/8/2015</td>\n      <td>4</td>\n      <td>523</td>\n    </tr>\n  </tbody>\n</table>\n</div>"
     },
     "execution_count": 46,
     "metadata": {},
     "output_type": "execute_result"
    }
   ],
   "source": [
    "books_hunger = pd.DataFrame({\n",
    "    'title': ['TLos Juegos del Hambre','Catching Fire','Il canto della rivolta'],\n",
    "    'language': ['Spanish','Englisg','Italian'],\n",
    "    'publication date': ['5/25/2010','5/25/2012','6/8/2015'],\n",
    "    'publication number': [2,6,4],\n",
    "    'page number': [374,405,523]\n",
    "})\n",
    "\n",
    "books_hunger"
   ],
   "metadata": {
    "collapsed": false,
    "ExecuteTime": {
     "end_time": "2025-01-13T06:03:47.162449500Z",
     "start_time": "2025-01-13T06:03:47.114085100Z"
    }
   },
   "id": "e9c3314a9bf6aaaa",
   "execution_count": 46
  },
  {
   "cell_type": "code",
   "outputs": [],
   "source": [],
   "metadata": {
    "collapsed": false
   },
   "id": "9d213ba5492fa43c"
  },
  {
   "cell_type": "code",
   "outputs": [
    {
     "data": {
      "text/plain": "                                         index  level_0 publication   page\ntitle                  language feature                                   \nTLos Juegos del Hambre Spanish  date         0        0   5/25/2010    NaN\n                                number       0        0           2  374.0\nCatching Fire          Englisg  date         1        1   5/25/2012    NaN\n                                number       1        1           6  405.0\nIl canto della rivolta Italian  date         2        2    6/8/2015    NaN\n                                number       2        2           4  523.0",
      "text/html": "<div>\n<style scoped>\n    .dataframe tbody tr th:only-of-type {\n        vertical-align: middle;\n    }\n\n    .dataframe tbody tr th {\n        vertical-align: top;\n    }\n\n    .dataframe thead th {\n        text-align: right;\n    }\n</style>\n<table border=\"1\" class=\"dataframe\">\n  <thead>\n    <tr style=\"text-align: right;\">\n      <th></th>\n      <th></th>\n      <th></th>\n      <th>index</th>\n      <th>level_0</th>\n      <th>publication</th>\n      <th>page</th>\n    </tr>\n    <tr>\n      <th>title</th>\n      <th>language</th>\n      <th>feature</th>\n      <th></th>\n      <th></th>\n      <th></th>\n      <th></th>\n    </tr>\n  </thead>\n  <tbody>\n    <tr>\n      <th rowspan=\"2\" valign=\"top\">TLos Juegos del Hambre</th>\n      <th rowspan=\"2\" valign=\"top\">Spanish</th>\n      <th>date</th>\n      <td>0</td>\n      <td>0</td>\n      <td>5/25/2010</td>\n      <td>NaN</td>\n    </tr>\n    <tr>\n      <th>number</th>\n      <td>0</td>\n      <td>0</td>\n      <td>2</td>\n      <td>374.0</td>\n    </tr>\n    <tr>\n      <th rowspan=\"2\" valign=\"top\">Catching Fire</th>\n      <th rowspan=\"2\" valign=\"top\">Englisg</th>\n      <th>date</th>\n      <td>1</td>\n      <td>1</td>\n      <td>5/25/2012</td>\n      <td>NaN</td>\n    </tr>\n    <tr>\n      <th>number</th>\n      <td>1</td>\n      <td>1</td>\n      <td>6</td>\n      <td>405.0</td>\n    </tr>\n    <tr>\n      <th rowspan=\"2\" valign=\"top\">Il canto della rivolta</th>\n      <th rowspan=\"2\" valign=\"top\">Italian</th>\n      <th>date</th>\n      <td>2</td>\n      <td>2</td>\n      <td>6/8/2015</td>\n      <td>NaN</td>\n    </tr>\n    <tr>\n      <th>number</th>\n      <td>2</td>\n      <td>2</td>\n      <td>4</td>\n      <td>523.0</td>\n    </tr>\n  </tbody>\n</table>\n</div>"
     },
     "execution_count": 49,
     "metadata": {},
     "output_type": "execute_result"
    }
   ],
   "source": [
    "# Modify books_hunger by resetting the index without dropping it\n",
    "books_hunger.reset_index(drop=False, inplace=True)\n",
    "\n",
    "# Reshape using title and language as index, feature as new name, publication and page as prefix separated by space and ending in a word\n",
    "publication_features = pd.wide_to_long(books_hunger, \n",
    "                                       stubnames=['publication', 'page'], \n",
    "                                       i=['title','language'],  \n",
    "                                       j='feature', \n",
    "                                       sep= ' ', \n",
    "                                       suffix=\"\\\\w+\")\n",
    "\n",
    "# Print publication_features\n",
    "publication_features"
   ],
   "metadata": {
    "collapsed": false,
    "ExecuteTime": {
     "end_time": "2025-01-13T06:10:03.512807500Z",
     "start_time": "2025-01-13T06:10:03.449616700Z"
    }
   },
   "id": "150aa76d3c726ed5",
   "execution_count": 49
  },
  {
   "cell_type": "markdown",
   "source": [
    "## String Concat and Split"
   ],
   "metadata": {
    "collapsed": false
   },
   "id": "f9da62b3807dc434"
  },
  {
   "cell_type": "code",
   "outputs": [],
   "source": [
    "books_dys = pd.DataFrame({\n",
    "    'title': ['Fahrenheit 451-1953','1984-1949','Brave New World-1932'],\n",
    "    'year': ['1953','1952','1978'],\n",
    "    'num_pages  ': [374,405,523],\n",
    "    'average_rating': [4.31,4.10,4.30],\n",
    "    'ratings_count': [23676,246767,15787],\n",
    "    \n",
    "})\n",
    "\n",
    "# Modify books_dys by resetting the index without dropping it\n",
    "books_dys.set_index('title',inplace=True)\n",
    "\n",
    "author_list = ['Ray Bradbury', 'George Orwell', 'Aldous Huxley']"
   ],
   "metadata": {
    "collapsed": false,
    "ExecuteTime": {
     "end_time": "2025-01-13T06:32:25.065062300Z",
     "start_time": "2025-01-13T06:32:25.044688300Z"
    }
   },
   "id": "f4790bcd9963c58",
   "execution_count": 65
  },
  {
   "cell_type": "code",
   "outputs": [
    {
     "data": {
      "text/plain": "                         year  num_pages    average_rating  ratings_count\ntitle                                                                    \n[Fahrenheit 451, 1953]   1953          374            4.31          23676\n[1984, 1949]             1952          405            4.10         246767\n[Brave New World, 1932]  1978          523            4.30          15787",
      "text/html": "<div>\n<style scoped>\n    .dataframe tbody tr th:only-of-type {\n        vertical-align: middle;\n    }\n\n    .dataframe tbody tr th {\n        vertical-align: top;\n    }\n\n    .dataframe thead th {\n        text-align: right;\n    }\n</style>\n<table border=\"1\" class=\"dataframe\">\n  <thead>\n    <tr style=\"text-align: right;\">\n      <th></th>\n      <th>year</th>\n      <th>num_pages</th>\n      <th>average_rating</th>\n      <th>ratings_count</th>\n    </tr>\n    <tr>\n      <th>title</th>\n      <th></th>\n      <th></th>\n      <th></th>\n      <th></th>\n    </tr>\n  </thead>\n  <tbody>\n    <tr>\n      <th>[Fahrenheit 451, 1953]</th>\n      <td>1953</td>\n      <td>374</td>\n      <td>4.31</td>\n      <td>23676</td>\n    </tr>\n    <tr>\n      <th>[1984, 1949]</th>\n      <td>1952</td>\n      <td>405</td>\n      <td>4.10</td>\n      <td>246767</td>\n    </tr>\n    <tr>\n      <th>[Brave New World, 1932]</th>\n      <td>1978</td>\n      <td>523</td>\n      <td>4.30</td>\n      <td>15787</td>\n    </tr>\n  </tbody>\n</table>\n</div>"
     },
     "execution_count": 63,
     "metadata": {},
     "output_type": "execute_result"
    }
   ],
   "source": [
    "# Split the index of books_dys by the hyphen \n",
    "#books_dys.index = str(books_dys['title']).split('-')\n",
    "books_dys.index = books_dys.index.str.split('-')\n",
    "books_dys"
   ],
   "metadata": {
    "collapsed": false,
    "ExecuteTime": {
     "end_time": "2025-01-13T06:31:10.889858900Z",
     "start_time": "2025-01-13T06:31:10.553089900Z"
    }
   },
   "id": "20f8eff7b3b299bc",
   "execution_count": 63
  },
  {
   "cell_type": "code",
   "outputs": [
    {
     "name": "stdout",
     "output_type": "stream",
     "text": [
      "                 year  num_pages    average_rating  ratings_count\n",
      "title                                                            \n",
      "Fahrenheit 451   1953          374            4.31          23676\n",
      "1984             1952          405            4.10         246767\n",
      "Brave New World  1978          523            4.30          15787\n"
     ]
    }
   ],
   "source": [
    "# Get the first element after splitting the index of books_dys\n",
    "books_dys.index = books_dys.index.str.split('-').str.get(0)\n",
    "\n",
    "# Print books_dys\n",
    "print(books_dys)"
   ],
   "metadata": {
    "collapsed": false,
    "ExecuteTime": {
     "end_time": "2025-01-13T06:32:28.749634100Z",
     "start_time": "2025-01-13T06:32:28.667921700Z"
    }
   },
   "id": "8e905f1f8327b6a9",
   "execution_count": 66
  },
  {
   "cell_type": "code",
   "outputs": [
    {
     "name": "stdout",
     "output_type": "stream",
     "text": [
      "                               year  num_pages    average_rating  \\\n",
      "title                                                              \n",
      "Fahrenheit 451-Ray Bradbury    1953          374            4.31   \n",
      "1984-George Orwell             1952          405            4.10   \n",
      "Brave New World-Aldous Huxley  1978          523            4.30   \n",
      "\n",
      "                               ratings_count  \n",
      "title                                         \n",
      "Fahrenheit 451-Ray Bradbury            23676  \n",
      "1984-George Orwell                    246767  \n",
      "Brave New World-Aldous Huxley          15787  \n"
     ]
    }
   ],
   "source": [
    "# Split by the hyphen the index of books_dys\n",
    "books_dys.index = books_dys.index.str.split('-').str.get(0)\n",
    "\n",
    "# Concatenate the index with the list author_list separated by a hyphen\n",
    "books_dys.index = books_dys.index.str.cat(author_list, sep='-')\n",
    "\n",
    "# Print books_dys\n",
    "print(books_dys)"
   ],
   "metadata": {
    "collapsed": false,
    "ExecuteTime": {
     "end_time": "2025-01-13T06:35:19.530073900Z",
     "start_time": "2025-01-13T06:35:19.307808400Z"
    }
   },
   "id": "4a3768298603114a",
   "execution_count": 67
  },
  {
   "cell_type": "code",
   "outputs": [
    {
     "data": {
      "text/plain": "          title                  subtitle                     authors  \\\n0  Harry Potter     the Half-Blood Prince  J.K. Rowling/Mary GrandPré   \n1  Harry Potter  the Order of the Phoenix  J.K. Rowling/Mary GrandPré   \n2  Harry Potter    the Chamber of Secrets                J.K. Rowling   \n3  Harry Potter   the Prisoner of Azkaban  J.K. Rowling/Mary GrandPré   \n4  Harry Potter       The Deathly Hallows  J.K. Rowling/Mary GrandPré   \n5  Harry Potter       the Sorcerers Stone  J.K. Rowling/Mary GrandPré   \n6  Harry Potter        the Goblet of Fire                J.K. Rowling   \n\n   goodreads  amazon  \n0       4.57    4.57  \n1       4.34    4.34  \n2       4.57    4.57  \n3       4.12    4.12  \n4       4.78    4.78  \n5       4.87    4.87  \n6       4.17    4.17  ",
      "text/html": "<div>\n<style scoped>\n    .dataframe tbody tr th:only-of-type {\n        vertical-align: middle;\n    }\n\n    .dataframe tbody tr th {\n        vertical-align: top;\n    }\n\n    .dataframe thead th {\n        text-align: right;\n    }\n</style>\n<table border=\"1\" class=\"dataframe\">\n  <thead>\n    <tr style=\"text-align: right;\">\n      <th></th>\n      <th>title</th>\n      <th>subtitle</th>\n      <th>authors</th>\n      <th>goodreads</th>\n      <th>amazon</th>\n    </tr>\n  </thead>\n  <tbody>\n    <tr>\n      <th>0</th>\n      <td>Harry Potter</td>\n      <td>the Half-Blood Prince</td>\n      <td>J.K. Rowling/Mary GrandPré</td>\n      <td>4.57</td>\n      <td>4.57</td>\n    </tr>\n    <tr>\n      <th>1</th>\n      <td>Harry Potter</td>\n      <td>the Order of the Phoenix</td>\n      <td>J.K. Rowling/Mary GrandPré</td>\n      <td>4.34</td>\n      <td>4.34</td>\n    </tr>\n    <tr>\n      <th>2</th>\n      <td>Harry Potter</td>\n      <td>the Chamber of Secrets</td>\n      <td>J.K. Rowling</td>\n      <td>4.57</td>\n      <td>4.57</td>\n    </tr>\n    <tr>\n      <th>3</th>\n      <td>Harry Potter</td>\n      <td>the Prisoner of Azkaban</td>\n      <td>J.K. Rowling/Mary GrandPré</td>\n      <td>4.12</td>\n      <td>4.12</td>\n    </tr>\n    <tr>\n      <th>4</th>\n      <td>Harry Potter</td>\n      <td>The Deathly Hallows</td>\n      <td>J.K. Rowling/Mary GrandPré</td>\n      <td>4.78</td>\n      <td>4.78</td>\n    </tr>\n    <tr>\n      <th>5</th>\n      <td>Harry Potter</td>\n      <td>the Sorcerers Stone</td>\n      <td>J.K. Rowling/Mary GrandPré</td>\n      <td>4.87</td>\n      <td>4.87</td>\n    </tr>\n    <tr>\n      <th>6</th>\n      <td>Harry Potter</td>\n      <td>the Goblet of Fire</td>\n      <td>J.K. Rowling</td>\n      <td>4.17</td>\n      <td>4.17</td>\n    </tr>\n  </tbody>\n</table>\n</div>"
     },
     "execution_count": 95,
     "metadata": {},
     "output_type": "execute_result"
    }
   ],
   "source": [
    "hp_books = pd.DataFrame({\n",
    "    'title': ['Harry Potter','Harry Potter','Harry Potter','Harry Potter','Harry Potter','Harry Potter','Harry Potter'],\n",
    "    'subtitle': ['the Half-Blood Prince','the Order of the Phoenix','the Chamber of Secrets','the Prisoner of Azkaban','The Deathly Hallows','the Sorcerer''s Stone','the Goblet of Fire'],\n",
    "    'authors': ['J.K. Rowling/Mary GrandPré','J.K. Rowling/Mary GrandPré','J.K. Rowling','J.K. Rowling/Mary GrandPré','J.K. Rowling/Mary GrandPré','J.K. Rowling/Mary GrandPré','J.K. Rowling'],\n",
    "    'goodreads': [4.57,4.34,4.57,4.12,4.78,4.87,4.17],\n",
    "    'amazon': [4.57,4.34,4.57,4.12,4.78,4.87,4.17],\n",
    "    \n",
    "}) \n",
    "\n",
    "hp_books"
   ],
   "metadata": {
    "collapsed": false,
    "ExecuteTime": {
     "end_time": "2025-01-13T22:06:43.066381200Z",
     "start_time": "2025-01-13T22:06:42.753690200Z"
    }
   },
   "id": "204614af16dd47af",
   "execution_count": 95
  },
  {
   "cell_type": "code",
   "outputs": [
    {
     "name": "stdout",
     "output_type": "stream",
     "text": [
      "          title                  subtitle                   authors    \\\n",
      "0  Harry Potter     the Half-Blood Prince  J.K. Rowling/Mary GrandPré   \n",
      "1  Harry Potter  the Order of the Phoenix  J.K. Rowling/Mary GrandPré   \n",
      "2  Harry Potter    the Chamber of Secrets                J.K. Rowling   \n",
      "3  Harry Potter   the Prisoner of Azkaban  J.K. Rowling/Mary GrandPré   \n",
      "4  Harry Potter       The Deathly Hallows  J.K. Rowling/Mary GrandPré   \n",
      "5  Harry Potter       the Sorcerers Stone  J.K. Rowling/Mary GrandPré   \n",
      "6  Harry Potter        the Goblet of Fire                J.K. Rowling   \n",
      "\n",
      "   goodreads    amazon                                 full_title  \n",
      "0         4.57    4.57     Harry Potter and the Half-Blood Prince  \n",
      "1         4.34    4.34  Harry Potter and the Order of the Phoenix  \n",
      "2         4.57    4.57    Harry Potter and the Chamber of Secrets  \n",
      "3         4.12    4.12   Harry Potter and the Prisoner of Azkaban  \n",
      "4         4.78    4.78       Harry Potter and The Deathly Hallows  \n",
      "5         4.87    4.87       Harry Potter and the Sorcerers Stone  \n",
      "6         4.17    4.17        Harry Potter and the Goblet of Fire  \n"
     ]
    }
   ],
   "source": [
    "# Concatenate the title and subtitle separated by \"and\" surrounded by spaces\n",
    "hp_books['full_title'] = hp_books['title'].str.cat(hp_books['subtitle'], sep =' and ') \n",
    "\n",
    "# Print hp_books\n",
    "print(hp_books)"
   ],
   "metadata": {
    "collapsed": false,
    "ExecuteTime": {
     "end_time": "2025-01-13T06:44:29.269855700Z",
     "start_time": "2025-01-13T06:44:28.982520Z"
    }
   },
   "id": "88de4db0cf080bb",
   "execution_count": 71
  },
  {
   "cell_type": "code",
   "outputs": [
    {
     "name": "stdout",
     "output_type": "stream",
     "text": [
      "                                   full_title        writer     source  rating\n",
      "0      Harry Potter and the Half-Blood Prince  J.K. Rowling  goodreads    4.57\n",
      "1   Harry Potter and the Order of the Phoenix  J.K. Rowling  goodreads    4.34\n",
      "2     Harry Potter and the Chamber of Secrets  J.K. Rowling  goodreads    4.57\n",
      "3    Harry Potter and the Prisoner of Azkaban  J.K. Rowling  goodreads    4.12\n",
      "4        Harry Potter and The Deathly Hallows  J.K. Rowling  goodreads    4.78\n",
      "5        Harry Potter and the Sorcerers Stone  J.K. Rowling  goodreads    4.87\n",
      "6         Harry Potter and the Goblet of Fire  J.K. Rowling  goodreads    4.17\n",
      "7      Harry Potter and the Half-Blood Prince  J.K. Rowling     amazon    4.57\n",
      "8   Harry Potter and the Order of the Phoenix  J.K. Rowling     amazon    4.34\n",
      "9     Harry Potter and the Chamber of Secrets  J.K. Rowling     amazon    4.57\n",
      "10   Harry Potter and the Prisoner of Azkaban  J.K. Rowling     amazon    4.12\n",
      "11       Harry Potter and The Deathly Hallows  J.K. Rowling     amazon    4.78\n",
      "12       Harry Potter and the Sorcerers Stone  J.K. Rowling     amazon    4.87\n",
      "13        Harry Potter and the Goblet of Fire  J.K. Rowling     amazon    4.17\n"
     ]
    }
   ],
   "source": [
    "# Concatenate the title and subtitle separated by \"and\" surrounded by spaces\n",
    "hp_books['full_title'] = hp_books['title'].str.cat(hp_books['subtitle'], sep =\" and \") \n",
    "\n",
    "# Split the authors into writer and illustrator columns\n",
    "hp_books[['writer', 'illustrator']] = hp_books['authors'].str.split('/', expand=True)\n",
    "#hp_books\n",
    "# Melt goodreads and amazon columns into a single column\n",
    "hp_melt = hp_books.melt(id_vars=['full_title', 'writer'], \n",
    "                        var_name='source', \n",
    "                        value_vars=['goodreads', 'amazon'], \n",
    "                        value_name='rating')\n",
    "\n",
    "# Print hp_melt\n",
    "print(hp_melt)"
   ],
   "metadata": {
    "collapsed": false,
    "ExecuteTime": {
     "end_time": "2025-01-13T22:07:42.732433300Z",
     "start_time": "2025-01-13T22:07:42.571103900Z"
    }
   },
   "id": "b6cb80fefad2ebfe",
   "execution_count": 97
  },
  {
   "cell_type": "code",
   "outputs": [
    {
     "data": {
      "text/plain": "                               main_title version  number_pages  \\\n0    Sherlock Holmes: The Complete Novels   Vol I          1059   \n1    Sherlock Holmes: The Complete Novels  Vol II           709   \n2  Adventures of Sherlock Holmes: Memoirs   Vol I           334   \n3  Adventures of Sherlock Holmes: Memoirs  Vol II           238   \n\n   number_ratings  \n0           24087  \n1           26794  \n2            2184  \n3            1884  ",
      "text/html": "<div>\n<style scoped>\n    .dataframe tbody tr th:only-of-type {\n        vertical-align: middle;\n    }\n\n    .dataframe tbody tr th {\n        vertical-align: top;\n    }\n\n    .dataframe thead th {\n        text-align: right;\n    }\n</style>\n<table border=\"1\" class=\"dataframe\">\n  <thead>\n    <tr style=\"text-align: right;\">\n      <th></th>\n      <th>main_title</th>\n      <th>version</th>\n      <th>number_pages</th>\n      <th>number_ratings</th>\n    </tr>\n  </thead>\n  <tbody>\n    <tr>\n      <th>0</th>\n      <td>Sherlock Holmes: The Complete Novels</td>\n      <td>Vol I</td>\n      <td>1059</td>\n      <td>24087</td>\n    </tr>\n    <tr>\n      <th>1</th>\n      <td>Sherlock Holmes: The Complete Novels</td>\n      <td>Vol II</td>\n      <td>709</td>\n      <td>26794</td>\n    </tr>\n    <tr>\n      <th>2</th>\n      <td>Adventures of Sherlock Holmes: Memoirs</td>\n      <td>Vol I</td>\n      <td>334</td>\n      <td>2184</td>\n    </tr>\n    <tr>\n      <th>3</th>\n      <td>Adventures of Sherlock Holmes: Memoirs</td>\n      <td>Vol II</td>\n      <td>238</td>\n      <td>1884</td>\n    </tr>\n  </tbody>\n</table>\n</div>"
     },
     "execution_count": 108,
     "metadata": {},
     "output_type": "execute_result"
    }
   ],
   "source": [
    "books_sh = pd.DataFrame({\n",
    "    'main_title': ['Sherlock Holmes: The Complete Novels','Sherlock Holmes: The Complete Novels','Adventures of Sherlock Holmes: Memoirs','Adventures of Sherlock Holmes: Memoirs'],\n",
    "    'version': ['Vol I', 'Vol II', 'Vol I', 'Vol II'],\n",
    "    'number_pages': [1059,709,334,238],\n",
    "    'number_ratings': [24087,26794,2184,1884],\n",
    "    \n",
    "}) \n",
    "\n",
    "books_sh"
   ],
   "metadata": {
    "collapsed": false,
    "ExecuteTime": {
     "end_time": "2025-01-13T22:22:19.989915300Z",
     "start_time": "2025-01-13T22:22:19.911104500Z"
    }
   },
   "id": "57f52803cc211151",
   "execution_count": 108
  },
  {
   "cell_type": "code",
   "outputs": [
    {
     "name": "stdout",
     "output_type": "stream",
     "text": [
      "   number_pages  number_ratings                          title  \\\n",
      "0          1059           24087                Sherlock Holmes   \n",
      "1           709           26794                Sherlock Holmes   \n",
      "2           334            2184  Adventures of Sherlock Holmes   \n",
      "3           238            1884  Adventures of Sherlock Holmes   \n",
      "\n",
      "               subtitle volume  \n",
      "0   The Complete Novels      I  \n",
      "1   The Complete Novels     II  \n",
      "2               Memoirs      I  \n",
      "3               Memoirs     II  \n"
     ]
    }
   ],
   "source": [
    "# Split main_title by a colon and assign it to two columns named title and subtitle \n",
    "books_sh[['title', 'subtitle']] = books_sh['main_title'].str.split(':', expand=True)\n",
    "\n",
    "# Split version by a space and assign the second element to the column named volume \n",
    "books_sh['volume'] = books_sh['version'].str.split(' ').str.get(1)\n",
    "\n",
    "# Drop the main_title and version columns modifying books_sh\n",
    "books_sh.drop(['main_title', 'version'], axis=1, inplace=True)\n",
    "\n",
    "# Reshape using title, subtitle and volume as index, name feature the new variable from columns starting with number, separated by undescore and ending in words \n",
    "sh_long = pd.wide_to_long(books_sh, stubnames='number', i=['title', 'subtitle', 'volume'], \n",
    "                  j='feature', sep='_', suffix=\"\\\\w+\")\n",
    "\n",
    "# Print books_sh\n",
    "print(books_sh)"
   ],
   "metadata": {
    "collapsed": false,
    "ExecuteTime": {
     "end_time": "2025-01-13T22:22:39.969695300Z",
     "start_time": "2025-01-13T22:22:39.642633600Z"
    }
   },
   "id": "9cb6dba32217963",
   "execution_count": 109
  }
 ],
 "metadata": {
  "kernelspec": {
   "display_name": "Python 3",
   "language": "python",
   "name": "python3"
  },
  "language_info": {
   "codemirror_mode": {
    "name": "ipython",
    "version": 2
   },
   "file_extension": ".py",
   "mimetype": "text/x-python",
   "name": "python",
   "nbconvert_exporter": "python",
   "pygments_lexer": "ipython2",
   "version": "2.7.6"
  }
 },
 "nbformat": 4,
 "nbformat_minor": 5
}
