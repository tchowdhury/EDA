{
 "cells": [
  {
   "cell_type": "code",
   "execution_count": 1,
   "id": "initial_id",
   "metadata": {
    "collapsed": true,
    "ExecuteTime": {
     "end_time": "2025-01-13T23:14:23.399720400Z",
     "start_time": "2025-01-13T23:14:11.863593900Z"
    }
   },
   "outputs": [],
   "source": [
    "import pandas as pd"
   ]
  },
  {
   "cell_type": "code",
   "outputs": [
    {
     "data": {
      "text/plain": "Index(['State', 'Account length', 'Area code', 'International plan',\n       'Voice mail plan', 'Number vmail messages', 'Total day minutes',\n       'Total day calls', 'Total day charge', 'Total eve minutes',\n       'Total eve calls', 'Total eve charge', 'Total night minutes',\n       'Total night calls', 'Total night charge', 'Total intl minutes',\n       'Total intl calls', 'Total intl charge', 'Customer service calls',\n       'Churn'],\n      dtype='object')"
     },
     "execution_count": 3,
     "metadata": {},
     "output_type": "execute_result"
    }
   ],
   "source": [
    "# import data\n",
    "data = pd.read_csv('../data/churn-bigml-20.csv')\n",
    "data.columns"
   ],
   "metadata": {
    "collapsed": false,
    "ExecuteTime": {
     "end_time": "2025-01-13T23:17:49.775063Z",
     "start_time": "2025-01-13T23:17:49.652849700Z"
    }
   },
   "id": "bb8cba71b629b51b",
   "execution_count": 3
  },
  {
   "cell_type": "code",
   "outputs": [
    {
     "data": {
      "text/plain": "state       city                            \nCalifornia  Los Angeles    Area code            408\n                           Total day calls      116\n                           Total day minutes    204\n            San Francisco  Area code            408\n                           Total day calls      109\n                           Total day minutes    287\nNew York    New York       Area code            415\n                           Total day calls       84\n                           Total day minutes     84\nOhio        Cleveland      Area code            510\n                           Total day calls       67\n                           Total day minutes     67\ndtype: int64"
     },
     "execution_count": 34,
     "metadata": {},
     "output_type": "execute_result"
    }
   ],
   "source": [
    "# Create a new multi-level index using the new_index list and the appropriate pandas method. Name the levels state and city respectively.\n",
    "# Predefined list to use as index\n",
    "\n",
    "area_code = [408,415,510]\n",
    "churn1 = data[data['Area code'].isin(area_code)][['Area code','Total day calls','Total day minutes','State']]\n",
    "\n",
    "churn = pd.DataFrame({\n",
    "    'Area code': [408,408,415,510],\n",
    "    'Total day calls':[116,109,84,67],\n",
    "    'Total day minutes': [204,287,84,67]\n",
    "})\n",
    "\n",
    "new_index = [['California', 'California', 'New York', 'Ohio'], \n",
    "             ['Los Angeles', 'San Francisco', 'New York', 'Cleveland']]\n",
    "\n",
    "# Create a multi-level index using predefined new_index\n",
    "churn_new = pd.MultiIndex.from_arrays(new_index, names=['state', 'city'])\n",
    "\n",
    "# Assign the new index to the churn index\n",
    "churn.index = churn_new\n",
    "\n",
    "# Reshape by stacking churn DataFrame\n",
    "churn_stack = churn.stack()\n",
    "\n",
    "# Print churn_new\n",
    "churn_stack"
   ],
   "metadata": {
    "collapsed": false,
    "ExecuteTime": {
     "end_time": "2025-01-13T23:55:45.962675200Z",
     "start_time": "2025-01-13T23:55:45.919087400Z"
    }
   },
   "id": "2fd745ad8f4dbabf",
   "execution_count": 34
  },
  {
   "cell_type": "code",
   "outputs": [
    {
     "data": {
      "text/plain": "                                     night  day\nstate      city                                \nCalifornia Los Angles total calls      116   84\n                      total minutes    109   67\n           Sanfraisco total calls      204   84\n                      total minutes    287   59\nNew York   New York   total calls       85   75\n                      total minutes     90   67\nOhio       Cleveland  total calls      107   90\n                      total minutes    167  110",
      "text/html": "<div>\n<style scoped>\n    .dataframe tbody tr th:only-of-type {\n        vertical-align: middle;\n    }\n\n    .dataframe tbody tr th {\n        vertical-align: top;\n    }\n\n    .dataframe thead th {\n        text-align: right;\n    }\n</style>\n<table border=\"1\" class=\"dataframe\">\n  <thead>\n    <tr style=\"text-align: right;\">\n      <th></th>\n      <th></th>\n      <th></th>\n      <th>night</th>\n      <th>day</th>\n    </tr>\n    <tr>\n      <th>state</th>\n      <th>city</th>\n      <th></th>\n      <th></th>\n      <th></th>\n    </tr>\n  </thead>\n  <tbody>\n    <tr>\n      <th rowspan=\"4\" valign=\"top\">California</th>\n      <th rowspan=\"2\" valign=\"top\">Los Angles</th>\n      <th>total calls</th>\n      <td>116</td>\n      <td>84</td>\n    </tr>\n    <tr>\n      <th>total minutes</th>\n      <td>109</td>\n      <td>67</td>\n    </tr>\n    <tr>\n      <th rowspan=\"2\" valign=\"top\">Sanfraisco</th>\n      <th>total calls</th>\n      <td>204</td>\n      <td>84</td>\n    </tr>\n    <tr>\n      <th>total minutes</th>\n      <td>287</td>\n      <td>59</td>\n    </tr>\n    <tr>\n      <th rowspan=\"2\" valign=\"top\">New York</th>\n      <th rowspan=\"2\" valign=\"top\">New York</th>\n      <th>total calls</th>\n      <td>85</td>\n      <td>75</td>\n    </tr>\n    <tr>\n      <th>total minutes</th>\n      <td>90</td>\n      <td>67</td>\n    </tr>\n    <tr>\n      <th rowspan=\"2\" valign=\"top\">Ohio</th>\n      <th rowspan=\"2\" valign=\"top\">Cleveland</th>\n      <th>total calls</th>\n      <td>107</td>\n      <td>90</td>\n    </tr>\n    <tr>\n      <th>total minutes</th>\n      <td>167</td>\n      <td>110</td>\n    </tr>\n  </tbody>\n</table>\n</div>"
     },
     "execution_count": 112,
     "metadata": {},
     "output_type": "execute_result"
    }
   ],
   "source": [
    "index = pd.MultiIndex.from_arrays([['California', 'California', 'New York', 'Ohio'],['Los Angles', 'Sanfraisco', 'New York', 'Cleveland']],names=['state', 'city'])\n",
    "data = [[116,109,84,67],[204,287,84,59],[85,90,75,67],[107,167,90,110]]\n",
    "columns = pd.MultiIndex.from_arrays([['night','night','day','day'],['total calls','total minutes','total calls','total minutes']])\n",
    "churn1 = pd.DataFrame(data, index=index, columns=columns)\n",
    "#churn1\n",
    "# Reshape by stacking the second level\n",
    "churn_stack = churn1.stack(future_stack=True)\n",
    "churn_stack"
   ],
   "metadata": {
    "collapsed": false,
    "ExecuteTime": {
     "end_time": "2025-01-14T04:11:53.257980Z",
     "start_time": "2025-01-14T04:11:53.085340400Z"
    }
   },
   "id": "b028acdca2552aa2",
   "execution_count": 112
  },
  {
   "cell_type": "code",
   "outputs": [
    {
     "name": "stdout",
     "output_type": "stream",
     "text": [
      "feature                      text message  total GB\n",
      "state      city       time                         \n",
      "California Los Angles day              20        40\n",
      "                      night            50       100\n",
      "           Sanfraisco day               5         5\n",
      "                      night             2         3\n",
      "New York   New York   day              30       100\n",
      "                      night            20        40\n",
      "Ohio       Cleveland  day              10         5\n",
      "                      night             9         6\n"
     ]
    }
   ],
   "source": [
    "index = pd.MultiIndex.from_arrays([['California', 'California', 'New York', 'Ohio'],['Los Angles', 'Sanfraisco', 'New York', 'Cleveland']],names=['state', 'city'])\n",
    "data = [[20,40,50,100],[5,5,2,3],[30,100,20,40],[10,5,9,6]]\n",
    "columns = pd.MultiIndex.from_arrays([['day','day','night','night'],['text message','total GB','text message','total GB']], names=['time','feature'])\n",
    "churn2 = pd.DataFrame(data, index=index, columns=columns)\n",
    "#churn2.reindex(['time','state'])\n",
    "\n",
    "# Stack churn by the feature column level\n",
    "churn_feature = churn2.stack(level=0, future_stack=True)\n",
    "\n",
    "# Print churn_feature\n",
    "print(churn_feature)"
   ],
   "metadata": {
    "collapsed": false,
    "ExecuteTime": {
     "end_time": "2025-01-14T03:21:17.758311200Z",
     "start_time": "2025-01-14T03:21:17.664756700Z"
    }
   },
   "id": "653f329a1b58c1d6",
   "execution_count": 82
  },
  {
   "cell_type": "markdown",
   "source": [
    "## Unstack"
   ],
   "metadata": {
    "collapsed": false
   },
   "id": "56f9d7bb08a2743a"
  },
  {
   "cell_type": "code",
   "outputs": [
    {
     "data": {
      "text/plain": "                              minutes  calls  charge\ntime  type          exited                          \nday   International churn       184.5     97   31.37\n      National      churn       129.1    137   21.95\nnight International churn       332.9     67   56.59\n      National      no churn    110.4    103   18.77\neve   International no churn    119.3    117   20.28\n      National      no churn    137.1     88   23.31",
      "text/html": "<div>\n<style scoped>\n    .dataframe tbody tr th:only-of-type {\n        vertical-align: middle;\n    }\n\n    .dataframe tbody tr th {\n        vertical-align: top;\n    }\n\n    .dataframe thead th {\n        text-align: right;\n    }\n</style>\n<table border=\"1\" class=\"dataframe\">\n  <thead>\n    <tr style=\"text-align: right;\">\n      <th></th>\n      <th></th>\n      <th></th>\n      <th>minutes</th>\n      <th>calls</th>\n      <th>charge</th>\n    </tr>\n    <tr>\n      <th>time</th>\n      <th>type</th>\n      <th>exited</th>\n      <th></th>\n      <th></th>\n      <th></th>\n    </tr>\n  </thead>\n  <tbody>\n    <tr>\n      <th rowspan=\"2\" valign=\"top\">day</th>\n      <th>International</th>\n      <th>churn</th>\n      <td>184.5</td>\n      <td>97</td>\n      <td>31.37</td>\n    </tr>\n    <tr>\n      <th>National</th>\n      <th>churn</th>\n      <td>129.1</td>\n      <td>137</td>\n      <td>21.95</td>\n    </tr>\n    <tr>\n      <th rowspan=\"2\" valign=\"top\">night</th>\n      <th>International</th>\n      <th>churn</th>\n      <td>332.9</td>\n      <td>67</td>\n      <td>56.59</td>\n    </tr>\n    <tr>\n      <th>National</th>\n      <th>no churn</th>\n      <td>110.4</td>\n      <td>103</td>\n      <td>18.77</td>\n    </tr>\n    <tr>\n      <th rowspan=\"2\" valign=\"top\">eve</th>\n      <th>International</th>\n      <th>no churn</th>\n      <td>119.3</td>\n      <td>117</td>\n      <td>20.28</td>\n    </tr>\n    <tr>\n      <th>National</th>\n      <th>no churn</th>\n      <td>137.1</td>\n      <td>88</td>\n      <td>23.31</td>\n    </tr>\n  </tbody>\n</table>\n</div>"
     },
     "execution_count": 95,
     "metadata": {},
     "output_type": "execute_result"
    }
   ],
   "source": [
    "index = pd.MultiIndex.from_arrays([['day','day','night','night','eve','eve'],['International', 'National', 'International', 'National','International', 'National'],['churn','churn','churn','no churn','no churn','no churn']],names=['time', 'type','exited'])\n",
    "#columns = pd.MultiIndex.from_arrays(['minutes','cakk','charge'], names=['time','feature'])\n",
    "columns = ['minutes','calls','charge']\n",
    "data = [[184.5, 97,31.37],[129.1,137,21.95],[332.9,67,56.59],[110.4,103,18.77],[119.3,117,20.28],[137.1,88,23.31]]\n",
    "\n",
    "churn3 = pd.DataFrame(data, index=index, columns=columns)\n",
    "churn3"
   ],
   "metadata": {
    "collapsed": false,
    "ExecuteTime": {
     "end_time": "2025-01-14T03:46:13.198024600Z",
     "start_time": "2025-01-14T03:46:13.015736700Z"
    }
   },
   "id": "d7614b9b6a5407e8",
   "execution_count": 95
  },
  {
   "cell_type": "code",
   "outputs": [
    {
     "data": {
      "text/plain": "                    minutes           calls          charge         \nexited                churn no churn  churn no churn  churn no churn\ntime  type                                                          \nday   International   184.5      NaN   97.0      NaN  31.37      NaN\n      National        129.1      NaN  137.0      NaN  21.95      NaN\neve   International     NaN    119.3    NaN    117.0    NaN    20.28\n      National          NaN    137.1    NaN     88.0    NaN    23.31\nnight International   332.9      NaN   67.0      NaN  56.59      NaN\n      National          NaN    110.4    NaN    103.0    NaN    18.77",
      "text/html": "<div>\n<style scoped>\n    .dataframe tbody tr th:only-of-type {\n        vertical-align: middle;\n    }\n\n    .dataframe tbody tr th {\n        vertical-align: top;\n    }\n\n    .dataframe thead tr th {\n        text-align: left;\n    }\n\n    .dataframe thead tr:last-of-type th {\n        text-align: right;\n    }\n</style>\n<table border=\"1\" class=\"dataframe\">\n  <thead>\n    <tr>\n      <th></th>\n      <th></th>\n      <th colspan=\"2\" halign=\"left\">minutes</th>\n      <th colspan=\"2\" halign=\"left\">calls</th>\n      <th colspan=\"2\" halign=\"left\">charge</th>\n    </tr>\n    <tr>\n      <th></th>\n      <th>exited</th>\n      <th>churn</th>\n      <th>no churn</th>\n      <th>churn</th>\n      <th>no churn</th>\n      <th>churn</th>\n      <th>no churn</th>\n    </tr>\n    <tr>\n      <th>time</th>\n      <th>type</th>\n      <th></th>\n      <th></th>\n      <th></th>\n      <th></th>\n      <th></th>\n      <th></th>\n    </tr>\n  </thead>\n  <tbody>\n    <tr>\n      <th rowspan=\"2\" valign=\"top\">day</th>\n      <th>International</th>\n      <td>184.5</td>\n      <td>NaN</td>\n      <td>97.0</td>\n      <td>NaN</td>\n      <td>31.37</td>\n      <td>NaN</td>\n    </tr>\n    <tr>\n      <th>National</th>\n      <td>129.1</td>\n      <td>NaN</td>\n      <td>137.0</td>\n      <td>NaN</td>\n      <td>21.95</td>\n      <td>NaN</td>\n    </tr>\n    <tr>\n      <th rowspan=\"2\" valign=\"top\">eve</th>\n      <th>International</th>\n      <td>NaN</td>\n      <td>119.3</td>\n      <td>NaN</td>\n      <td>117.0</td>\n      <td>NaN</td>\n      <td>20.28</td>\n    </tr>\n    <tr>\n      <th>National</th>\n      <td>NaN</td>\n      <td>137.1</td>\n      <td>NaN</td>\n      <td>88.0</td>\n      <td>NaN</td>\n      <td>23.31</td>\n    </tr>\n    <tr>\n      <th rowspan=\"2\" valign=\"top\">night</th>\n      <th>International</th>\n      <td>332.9</td>\n      <td>NaN</td>\n      <td>67.0</td>\n      <td>NaN</td>\n      <td>56.59</td>\n      <td>NaN</td>\n    </tr>\n    <tr>\n      <th>National</th>\n      <td>NaN</td>\n      <td>110.4</td>\n      <td>NaN</td>\n      <td>103.0</td>\n      <td>NaN</td>\n      <td>18.77</td>\n    </tr>\n  </tbody>\n</table>\n</div>"
     },
     "execution_count": 90,
     "metadata": {},
     "output_type": "execute_result"
    }
   ],
   "source": [
    "# Reshape the churn DataFrame by unstacking\n",
    "churn_unstack = churn3.unstack()\n",
    "\n",
    "# Print churn_unstack\n",
    "churn_unstack"
   ],
   "metadata": {
    "collapsed": false,
    "ExecuteTime": {
     "end_time": "2025-01-14T03:39:48.463295600Z",
     "start_time": "2025-01-14T03:39:48.406193800Z"
    }
   },
   "id": "c7b2bc56955fb8e7",
   "execution_count": 90
  },
  {
   "cell_type": "code",
   "outputs": [
    {
     "name": "stdout",
     "output_type": "stream",
     "text": [
      "                       minutes                calls               charge  \\\n",
      "time                       day    eve  night    day    eve  night    day   \n",
      "type          exited                                                       \n",
      "International churn      184.5    NaN  332.9   97.0    NaN   67.0  31.37   \n",
      "              no churn     NaN  119.3    NaN    NaN  117.0    NaN    NaN   \n",
      "National      churn      129.1    NaN    NaN  137.0    NaN    NaN  21.95   \n",
      "              no churn     NaN  137.1  110.4    NaN   88.0  103.0    NaN   \n",
      "\n",
      "                                      \n",
      "time                      eve  night  \n",
      "type          exited                  \n",
      "International churn       NaN  56.59  \n",
      "              no churn  20.28    NaN  \n",
      "National      churn       NaN    NaN  \n",
      "              no churn  23.31  18.77  \n"
     ]
    }
   ],
   "source": [
    "# Reshape churn by unstacking the first row level\n",
    "churn_first = churn3.unstack(level=0)\n",
    "\n",
    "# Print churn_zero\n",
    "print(churn_first)"
   ],
   "metadata": {
    "collapsed": false,
    "ExecuteTime": {
     "end_time": "2025-01-14T03:40:58.169610600Z",
     "start_time": "2025-01-14T03:40:58.126640300Z"
    }
   },
   "id": "68f5f74f4a682cd9",
   "execution_count": 94
  },
  {
   "cell_type": "code",
   "outputs": [
    {
     "name": "stdout",
     "output_type": "stream",
     "text": [
      "                     minutes                  calls                 charge  \\\n",
      "type           International National International National International   \n",
      "time  exited                                                                 \n",
      "day   churn            184.5    129.1          97.0    137.0         31.37   \n",
      "eve   no churn         119.3    137.1         117.0     88.0         20.28   \n",
      "night churn            332.9      NaN          67.0      NaN         56.59   \n",
      "      no churn           NaN    110.4           NaN    103.0           NaN   \n",
      "\n",
      "                         \n",
      "type           National  \n",
      "time  exited             \n",
      "day   churn       21.95  \n",
      "eve   no churn    23.31  \n",
      "night churn         NaN  \n",
      "      no churn    18.77  \n"
     ]
    }
   ],
   "source": [
    "# Reshape churn by unstacking the second row level\n",
    "churn_second = churn3.unstack(level=1)\n",
    "\n",
    "# Print churn_second\n",
    "print(churn_second)"
   ],
   "metadata": {
    "collapsed": false,
    "ExecuteTime": {
     "end_time": "2025-01-14T03:46:34.443797600Z",
     "start_time": "2025-01-14T03:46:34.314456200Z"
    }
   },
   "id": "b16b43d4e8083dc8",
   "execution_count": 97
  },
  {
   "cell_type": "code",
   "outputs": [
    {
     "data": {
      "text/plain": "                              minutes  calls  charge\ntime  type          exited                          \nday   International churn       184.5     97   31.37\n      National      churn       129.1    137   21.95\nnight International churn       332.9     67   56.59\n      National      no churn    110.4    103   18.77\neve   International no churn    119.3    117   20.28\n      National      no churn    137.1     88   23.31",
      "text/html": "<div>\n<style scoped>\n    .dataframe tbody tr th:only-of-type {\n        vertical-align: middle;\n    }\n\n    .dataframe tbody tr th {\n        vertical-align: top;\n    }\n\n    .dataframe thead th {\n        text-align: right;\n    }\n</style>\n<table border=\"1\" class=\"dataframe\">\n  <thead>\n    <tr style=\"text-align: right;\">\n      <th></th>\n      <th></th>\n      <th></th>\n      <th>minutes</th>\n      <th>calls</th>\n      <th>charge</th>\n    </tr>\n    <tr>\n      <th>time</th>\n      <th>type</th>\n      <th>exited</th>\n      <th></th>\n      <th></th>\n      <th></th>\n    </tr>\n  </thead>\n  <tbody>\n    <tr>\n      <th rowspan=\"2\" valign=\"top\">day</th>\n      <th>International</th>\n      <th>churn</th>\n      <td>184.5</td>\n      <td>97</td>\n      <td>31.37</td>\n    </tr>\n    <tr>\n      <th>National</th>\n      <th>churn</th>\n      <td>129.1</td>\n      <td>137</td>\n      <td>21.95</td>\n    </tr>\n    <tr>\n      <th rowspan=\"2\" valign=\"top\">night</th>\n      <th>International</th>\n      <th>churn</th>\n      <td>332.9</td>\n      <td>67</td>\n      <td>56.59</td>\n    </tr>\n    <tr>\n      <th>National</th>\n      <th>no churn</th>\n      <td>110.4</td>\n      <td>103</td>\n      <td>18.77</td>\n    </tr>\n    <tr>\n      <th rowspan=\"2\" valign=\"top\">eve</th>\n      <th>International</th>\n      <th>no churn</th>\n      <td>119.3</td>\n      <td>117</td>\n      <td>20.28</td>\n    </tr>\n    <tr>\n      <th>National</th>\n      <th>no churn</th>\n      <td>137.1</td>\n      <td>88</td>\n      <td>23.31</td>\n    </tr>\n  </tbody>\n</table>\n</div>"
     },
     "execution_count": 107,
     "metadata": {},
     "output_type": "execute_result"
    }
   ],
   "source": [
    "index = pd.MultiIndex.from_arrays([['day','day','night','night','eve','eve'],['International', 'National', 'International', 'National','International', 'National'],['churn','churn','churn','no churn','no churn','no churn']],names=['time', 'type','exited'])\n",
    "#columns = pd.MultiIndex.from_arrays(['minutes','cakk','charge'], names=['time','feature'])\n",
    "columns = ['minutes','calls','charge']\n",
    "data = [[184.5, 97,31.37],[129.1,137,21.95],[332.9,67,56.59],[110.4,103,18.77],[119.3,117,20.28],[137.1,88,23.31]]\n",
    "\n",
    "churn4 = pd.DataFrame(data, index=index, columns=columns)\n",
    "churn4"
   ],
   "metadata": {
    "collapsed": false,
    "ExecuteTime": {
     "end_time": "2025-01-14T03:54:42.208102600Z",
     "start_time": "2025-01-14T03:54:41.960595500Z"
    }
   },
   "id": "b269e98f9638c8dc",
   "execution_count": 107
  },
  {
   "cell_type": "code",
   "outputs": [
    {
     "name": "stdout",
     "output_type": "stream",
     "text": [
      "                       minutes                calls               charge  \\\n",
      "time                       day    eve  night    day    eve  night    day   \n",
      "type          exited                                                       \n",
      "International churn      184.5    NaN  332.9   97.0    NaN   67.0  31.37   \n",
      "              no churn     NaN  119.3    NaN    NaN  117.0    NaN    NaN   \n",
      "National      churn      129.1    NaN    NaN  137.0    NaN    NaN  21.95   \n",
      "              no churn     NaN  137.1  110.4    NaN   88.0  103.0    NaN   \n",
      "\n",
      "                                      \n",
      "time                      eve  night  \n",
      "type          exited                  \n",
      "International churn       NaN  56.59  \n",
      "              no churn  20.28    NaN  \n",
      "National      churn       NaN    NaN  \n",
      "              no churn  23.31  18.77  \n"
     ]
    }
   ],
   "source": [
    "# Unstack the time level from churn\n",
    "churn_time = churn4.unstack(level='time')\n",
    "\n",
    "# Print churn_time\n",
    "print(churn_time)"
   ],
   "metadata": {
    "collapsed": false,
    "ExecuteTime": {
     "end_time": "2025-01-14T03:49:24.955933Z",
     "start_time": "2025-01-14T03:49:24.952933300Z"
    }
   },
   "id": "189e20efd7bb7d19",
   "execution_count": 99
  },
  {
   "cell_type": "code",
   "outputs": [
    {
     "name": "stdout",
     "output_type": "stream",
     "text": [
      "                       minutes                calls               charge  \\\n",
      "time                       day    eve  night    day    eve  night    day   \n",
      "type          exited                                                       \n",
      "National      no churn     NaN  137.1  110.4    NaN   88.0  103.0    NaN   \n",
      "              churn      129.1    NaN    NaN  137.0    NaN    NaN  21.95   \n",
      "International no churn     NaN  119.3    NaN    NaN  117.0    NaN    NaN   \n",
      "              churn      184.5    NaN  332.9   97.0    NaN   67.0  31.37   \n",
      "\n",
      "                                      \n",
      "time                      eve  night  \n",
      "type          exited                  \n",
      "National      no churn  23.31  18.77  \n",
      "              churn       NaN    NaN  \n",
      "International no churn  20.28    NaN  \n",
      "              churn       NaN  56.59  \n"
     ]
    }
   ],
   "source": [
    "# Sort the index in descending order\n",
    "churn_time = churn4.unstack(level='time').sort_index(ascending=False)\n",
    "\n",
    "# Print churn_time\n",
    "print(churn_time)"
   ],
   "metadata": {
    "collapsed": false,
    "ExecuteTime": {
     "end_time": "2025-01-14T03:50:44.441487900Z",
     "start_time": "2025-01-14T03:50:44.265879400Z"
    }
   },
   "id": "b87955ce9f6b643d",
   "execution_count": 101
  },
  {
   "cell_type": "code",
   "outputs": [
    {
     "name": "stdout",
     "output_type": "stream",
     "text": [
      "type                    International  National\n",
      "time  exited                                   \n",
      "day   churn    minutes         184.50    129.10\n",
      "               calls            97.00    137.00\n",
      "               charge           31.37     21.95\n",
      "eve   no churn minutes         119.30    137.10\n",
      "               calls           117.00     88.00\n",
      "               charge           20.28     23.31\n",
      "night churn    minutes         332.90       NaN\n",
      "               calls            67.00       NaN\n",
      "               charge           56.59       NaN\n",
      "      no churn minutes            NaN    110.40\n",
      "               calls              NaN    103.00\n",
      "               charge             NaN     18.77\n"
     ]
    }
   ],
   "source": [
    "# Unstack churn by type level\n",
    "churn_type = churn4.unstack(level='type')\n",
    "\n",
    "# Stack the resulting DataFrame using the first column level\n",
    "churn_final = churn_type.stack(level=0,future_stack=True)\n",
    "\n",
    "# Print churn_type\n",
    "print(churn_final)"
   ],
   "metadata": {
    "collapsed": false,
    "ExecuteTime": {
     "end_time": "2025-01-14T03:54:46.634464700Z",
     "start_time": "2025-01-14T03:54:46.507233300Z"
    }
   },
   "id": "5b43f7d141d3a6ec",
   "execution_count": 108
  },
  {
   "cell_type": "markdown",
   "source": [
    "## Multiple Levels"
   ],
   "metadata": {
    "collapsed": false
   },
   "id": "44ba87cd14cf5fdf"
  },
  {
   "cell_type": "code",
   "outputs": [
    {
     "data": {
      "text/plain": "year                              2019                   2020               \nplan                           minutes voicemail data minutes voicemail data\nexited   state      city                                                    \nchurn    California Los Angles       0         1    2       1         1    5\nno churn California Los Angles       0         1    3       1         0    2\nchurn    New York   New York         1         0    5       0         1    2\nno churn New York   New York         1         0    4       1         0    6",
      "text/html": "<div>\n<style scoped>\n    .dataframe tbody tr th:only-of-type {\n        vertical-align: middle;\n    }\n\n    .dataframe tbody tr th {\n        vertical-align: top;\n    }\n\n    .dataframe thead tr th {\n        text-align: left;\n    }\n\n    .dataframe thead tr:last-of-type th {\n        text-align: right;\n    }\n</style>\n<table border=\"1\" class=\"dataframe\">\n  <thead>\n    <tr>\n      <th></th>\n      <th></th>\n      <th>year</th>\n      <th colspan=\"3\" halign=\"left\">2019</th>\n      <th colspan=\"3\" halign=\"left\">2020</th>\n    </tr>\n    <tr>\n      <th></th>\n      <th></th>\n      <th>plan</th>\n      <th>minutes</th>\n      <th>voicemail</th>\n      <th>data</th>\n      <th>minutes</th>\n      <th>voicemail</th>\n      <th>data</th>\n    </tr>\n    <tr>\n      <th>exited</th>\n      <th>state</th>\n      <th>city</th>\n      <th></th>\n      <th></th>\n      <th></th>\n      <th></th>\n      <th></th>\n      <th></th>\n    </tr>\n  </thead>\n  <tbody>\n    <tr>\n      <th>churn</th>\n      <th>California</th>\n      <th>Los Angles</th>\n      <td>0</td>\n      <td>1</td>\n      <td>2</td>\n      <td>1</td>\n      <td>1</td>\n      <td>5</td>\n    </tr>\n    <tr>\n      <th>no churn</th>\n      <th>California</th>\n      <th>Los Angles</th>\n      <td>0</td>\n      <td>1</td>\n      <td>3</td>\n      <td>1</td>\n      <td>0</td>\n      <td>2</td>\n    </tr>\n    <tr>\n      <th>churn</th>\n      <th>New York</th>\n      <th>New York</th>\n      <td>1</td>\n      <td>0</td>\n      <td>5</td>\n      <td>0</td>\n      <td>1</td>\n      <td>2</td>\n    </tr>\n    <tr>\n      <th>no churn</th>\n      <th>New York</th>\n      <th>New York</th>\n      <td>1</td>\n      <td>0</td>\n      <td>4</td>\n      <td>1</td>\n      <td>0</td>\n      <td>6</td>\n    </tr>\n  </tbody>\n</table>\n</div>"
     },
     "execution_count": 133,
     "metadata": {},
     "output_type": "execute_result"
    }
   ],
   "source": [
    "index = pd.MultiIndex.from_arrays([['churn','no churn','churn','no churn'],['California','California','New York','New York'],['Los Angles','Los Angles','New York','New York']],names=['exited','state','city'])\n",
    "columns = pd.MultiIndex.from_arrays([['2019','2019','2019','2020','2020','2020'],['minutes','voicemail','data','minutes','voicemail','data']], names=['year','plan'])\n",
    "data = [[0,1,2,1,1,5],[0,1,3,1,0,2],[1,0,5,0,1,2],[1,0,4,1,0,6]]\n",
    "\n",
    "churn5 = pd.DataFrame(data, index=index, columns=columns)\n",
    "churn5"
   ],
   "metadata": {
    "collapsed": false,
    "ExecuteTime": {
     "end_time": "2025-01-14T04:30:30.946695400Z",
     "start_time": "2025-01-14T04:30:30.728743500Z"
    }
   },
   "id": "d387b8c419c80103",
   "execution_count": 133
  },
  {
   "cell_type": "code",
   "outputs": [
    {
     "name": "stdout",
     "output_type": "stream",
     "text": [
      "year                              2019                   2020               \n",
      "plan                           minutes voicemail data minutes voicemail data\n",
      "city       state      exited                                                \n",
      "Los Angles California churn          0         1    2       1         1    5\n",
      "                      no churn       0         1    3       1         0    2\n",
      "New York   New York   churn          1         0    5       0         1    2\n",
      "                      no churn       1         0    4       1         0    6\n"
     ]
    }
   ],
   "source": [
    "# Switch the first and third row index levels in churn\n",
    "churn_swap = churn5.swaplevel(0, 2)\n",
    "\n",
    "# Reshape by unstacking the last row level \n",
    "churn_unstack = churn_swap.unstack(level=2)\n",
    "\n",
    "# Print churn_swap\n",
    "print(churn_swap)"
   ],
   "metadata": {
    "collapsed": false,
    "ExecuteTime": {
     "end_time": "2025-01-14T04:20:01.209148Z",
     "start_time": "2025-01-14T04:20:01.155956900Z"
    }
   },
   "id": "179e8dbd2f805dc3",
   "execution_count": 124
  },
  {
   "cell_type": "code",
   "outputs": [
    {
     "name": "stdout",
     "output_type": "stream",
     "text": [
      "year             2019                                                   \\\n",
      "plan          minutes                               voicemail            \n",
      "exited          churn            no churn               churn            \n",
      "state      California New York California New York California New York   \n",
      "city                                                                     \n",
      "Los Angles        0.0      NaN        0.0      NaN        1.0      NaN   \n",
      "New York          NaN      1.0        NaN      1.0        NaN      0.0   \n",
      "\n",
      "year                                                ...       2020           \\\n",
      "plan                                 data           ...    minutes            \n",
      "exited       no churn               churn           ...   no churn            \n",
      "state      California New York California New York  ... California New York   \n",
      "city                                                ...                       \n",
      "Los Angles        1.0      NaN        2.0      NaN  ...        1.0      NaN   \n",
      "New York          NaN      0.0        NaN      5.0  ...        NaN      1.0   \n",
      "\n",
      "year                                                                    \\\n",
      "plan        voicemail                                    data            \n",
      "exited          churn            no churn               churn            \n",
      "state      California New York California New York California New York   \n",
      "city                                                                     \n",
      "Los Angles        1.0      NaN        0.0      NaN        5.0      NaN   \n",
      "New York          NaN      1.0        NaN      0.0        NaN      2.0   \n",
      "\n",
      "year                            \n",
      "plan                            \n",
      "exited       no churn           \n",
      "state      California New York  \n",
      "city                            \n",
      "Los Angles        2.0      NaN  \n",
      "New York          NaN      6.0  \n",
      "\n",
      "[2 rows x 24 columns]\n"
     ]
    }
   ],
   "source": [
    "# Unstack the first and second row level of churn\n",
    "churn_unstack = churn5.unstack(level=[0,1])\n",
    "\n",
    "# Stack the resulting DataFrame using plan and year\n",
    "churn_py = churn_unstack.stack(level=['plan', 'year'],future_stack=True)\n",
    "\n",
    "# Switch the first and second column levels\n",
    "churn_switch = churn_py.swaplevel(0, 1, axis=1)\n",
    "\n",
    "# Print churn_unstack\n",
    "print(churn_unstack)"
   ],
   "metadata": {
    "collapsed": false,
    "ExecuteTime": {
     "end_time": "2025-01-14T04:30:55.654971300Z",
     "start_time": "2025-01-14T04:30:55.478646Z"
    }
   },
   "id": "90b6ebc65219c8d5",
   "execution_count": 135
  },
  {
   "cell_type": "markdown",
   "source": [
    "## Missing Value"
   ],
   "metadata": {
    "collapsed": false
   },
   "id": "1adc4c2b48992294"
  },
  {
   "cell_type": "code",
   "outputs": [
    {
     "data": {
      "text/plain": "                                                total_day_calls  \\\nstate international_plan voice_mail_plan churn                    \nLA    No                 No              False          106.818   \n                                         True           100.000   \n                         Yes             False          100.000   \nNY    No                 No              False           90.900   \n                                         True            95.000   \n                         Yes             False          115.000   \n      Yes                No              False          109.000   \n                                         True            87.000   \nLA    Yes                No              False           78.000   \n                                         True            69.000   \nNY    Yes                Yes             False          120.000   \nLA    Yes                Yes             False           71.000   \n\n                                                total_night_calls  \nstate international_plan voice_mail_plan churn                     \nLA    No                 No              False             96.909  \n                                         True             119.000  \n                         Yes             False             84.250  \nNY    No                 No              False            100.800  \n                                         True             101.500  \n                         Yes             False            121.000  \n      Yes                No              False             99.000  \n                                         True             113.000  \nLA    Yes                No              False             90.000  \n                                         True             104.000  \nNY    Yes                Yes             False             78.000  \nLA    Yes                Yes             False            101.000  ",
      "text/html": "<div>\n<style scoped>\n    .dataframe tbody tr th:only-of-type {\n        vertical-align: middle;\n    }\n\n    .dataframe tbody tr th {\n        vertical-align: top;\n    }\n\n    .dataframe thead th {\n        text-align: right;\n    }\n</style>\n<table border=\"1\" class=\"dataframe\">\n  <thead>\n    <tr style=\"text-align: right;\">\n      <th></th>\n      <th></th>\n      <th></th>\n      <th></th>\n      <th>total_day_calls</th>\n      <th>total_night_calls</th>\n    </tr>\n    <tr>\n      <th>state</th>\n      <th>international_plan</th>\n      <th>voice_mail_plan</th>\n      <th>churn</th>\n      <th></th>\n      <th></th>\n    </tr>\n  </thead>\n  <tbody>\n    <tr>\n      <th rowspan=\"3\" valign=\"top\">LA</th>\n      <th rowspan=\"3\" valign=\"top\">No</th>\n      <th rowspan=\"2\" valign=\"top\">No</th>\n      <th>False</th>\n      <td>106.818</td>\n      <td>96.909</td>\n    </tr>\n    <tr>\n      <th>True</th>\n      <td>100.000</td>\n      <td>119.000</td>\n    </tr>\n    <tr>\n      <th>Yes</th>\n      <th>False</th>\n      <td>100.000</td>\n      <td>84.250</td>\n    </tr>\n    <tr>\n      <th rowspan=\"5\" valign=\"top\">NY</th>\n      <th rowspan=\"3\" valign=\"top\">No</th>\n      <th rowspan=\"2\" valign=\"top\">No</th>\n      <th>False</th>\n      <td>90.900</td>\n      <td>100.800</td>\n    </tr>\n    <tr>\n      <th>True</th>\n      <td>95.000</td>\n      <td>101.500</td>\n    </tr>\n    <tr>\n      <th>Yes</th>\n      <th>False</th>\n      <td>115.000</td>\n      <td>121.000</td>\n    </tr>\n    <tr>\n      <th rowspan=\"2\" valign=\"top\">Yes</th>\n      <th rowspan=\"2\" valign=\"top\">No</th>\n      <th>False</th>\n      <td>109.000</td>\n      <td>99.000</td>\n    </tr>\n    <tr>\n      <th>True</th>\n      <td>87.000</td>\n      <td>113.000</td>\n    </tr>\n    <tr>\n      <th rowspan=\"2\" valign=\"top\">LA</th>\n      <th rowspan=\"2\" valign=\"top\">Yes</th>\n      <th rowspan=\"2\" valign=\"top\">No</th>\n      <th>False</th>\n      <td>78.000</td>\n      <td>90.000</td>\n    </tr>\n    <tr>\n      <th>True</th>\n      <td>69.000</td>\n      <td>104.000</td>\n    </tr>\n    <tr>\n      <th>NY</th>\n      <th>Yes</th>\n      <th>Yes</th>\n      <th>False</th>\n      <td>120.000</td>\n      <td>78.000</td>\n    </tr>\n    <tr>\n      <th>LA</th>\n      <th>Yes</th>\n      <th>Yes</th>\n      <th>False</th>\n      <td>71.000</td>\n      <td>101.000</td>\n    </tr>\n  </tbody>\n</table>\n</div>"
     },
     "execution_count": 158,
     "metadata": {},
     "output_type": "execute_result"
    }
   ],
   "source": [
    "index = pd.MultiIndex.from_arrays([['LA','LA','LA','NY','NY','NY','NY','NY','LA','LA','NY','LA'],['No','No','No','No','No','No','Yes','Yes','Yes','Yes','Yes','Yes'],['No','No','Yes','No','No','Yes','No','No','No','No','Yes','Yes'],[False,True,False,False,True,False,False,True,False,True,False,False]],names=['state','international_plan','voice_mail_plan','churn'])\n",
    "columns = ['total_day_calls','total_night_calls']\n",
    "data = [[106.818,96.909],[100.000,119.000],[100.000,84.250],[90.900,100.800],[95.000,101.500],[115.000,121.000],[109.000,99.000],[87.000,113.000],[78.000,90.000],[69.000,104.000],[120.000,78.000],[71.000, 101.000]]\n",
    "\n",
    "churn6 = pd.DataFrame(data, index=index, columns=columns)\n",
    "churn6"
   ],
   "metadata": {
    "collapsed": false,
    "ExecuteTime": {
     "end_time": "2025-01-14T05:38:58.263325800Z",
     "start_time": "2025-01-14T05:38:58.089004Z"
    }
   },
   "id": "62da5f559a4b41db",
   "execution_count": 158
  },
  {
   "cell_type": "code",
   "outputs": [
    {
     "name": "stdout",
     "output_type": "stream",
     "text": [
      "                                         total_day_calls         \\\n",
      "churn                                              False  True    \n",
      "state international_plan voice_mail_plan                          \n",
      "LA    No                 Yes                     100.000    0.0   \n",
      "NY    No                 Yes                     115.000    0.0   \n",
      "LA    Yes                Yes                      71.000    0.0   \n",
      "NY    Yes                Yes                     120.000    0.0   \n",
      "LA    No                 No                      106.818  100.0   \n",
      "NY    No                 No                       90.900   95.0   \n",
      "LA    Yes                No                       78.000   69.0   \n",
      "NY    Yes                No                      109.000   87.0   \n",
      "\n",
      "                                         total_night_calls         \n",
      "churn                                                False  True   \n",
      "state international_plan voice_mail_plan                           \n",
      "LA    No                 Yes                        84.250    0.0  \n",
      "NY    No                 Yes                       121.000    0.0  \n",
      "LA    Yes                Yes                       101.000    0.0  \n",
      "NY    Yes                Yes                        78.000    0.0  \n",
      "LA    No                 No                         96.909  119.0  \n",
      "NY    No                 No                        100.800  101.5  \n",
      "LA    Yes                No                         90.000  104.0  \n",
      "NY    Yes                No                         99.000  113.0  \n"
     ]
    }
   ],
   "source": [
    "# Unstack churn level and fill missing values with zero\n",
    "churn6 = churn6.unstack(level='churn', fill_value=0)\n",
    "\n",
    "# Sort by descending voice mail plan and ascending international plan\n",
    "churn_sorted = churn6.sort_index(level=['voice_mail_plan', 'international_plan'], \n",
    "                          ascending=[False, True])\n",
    "\n",
    "# Print final DataFrame and observe pattern\n",
    "print(churn_sorted)"
   ],
   "metadata": {
    "collapsed": false,
    "ExecuteTime": {
     "end_time": "2025-01-14T05:39:01.800402300Z",
     "start_time": "2025-01-14T05:39:01.744913700Z"
    }
   },
   "id": "5d8d07be982af82b",
   "execution_count": 159
  }
 ],
 "metadata": {
  "kernelspec": {
   "display_name": "Python 3",
   "language": "python",
   "name": "python3"
  },
  "language_info": {
   "codemirror_mode": {
    "name": "ipython",
    "version": 2
   },
   "file_extension": ".py",
   "mimetype": "text/x-python",
   "name": "python",
   "nbconvert_exporter": "python",
   "pygments_lexer": "ipython2",
   "version": "2.7.6"
  }
 },
 "nbformat": 4,
 "nbformat_minor": 5
}
